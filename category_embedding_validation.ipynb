{
  "nbformat": 4,
  "nbformat_minor": 0,
  "metadata": {
    "kernelspec": {
      "display_name": "Python 3",
      "language": "python",
      "name": "python3"
    },
    "language_info": {
      "codemirror_mode": {
        "name": "ipython",
        "version": 3
      },
      "file_extension": ".py",
      "mimetype": "text/x-python",
      "name": "python",
      "nbconvert_exporter": "python",
      "pygments_lexer": "ipython3",
      "version": "3.7.6"
    },
    "colab": {
      "name": "category_embedding의 사본",
      "provenance": [],
      "collapsed_sections": []
    },
    "accelerator": "GPU"
  },
  "cells": [
    {
      "cell_type": "markdown",
      "metadata": {
        "id": "oQvMI3m7nSvk"
      },
      "source": [
        "EDAreport.html 파일을 먼저 확인해주시기 바랍니다.\n",
        "해당 파일은 R의 summarytools library를 이용해 작성한 train.csv파일의 데이터 탐색 결과이며, 이를 통해 다음과 같은 사실을 알 수 있습니다.\n",
        "1. integer features들의 치우친 분포(skewed distribution), 변수별 중위값 및 NA값의 비율\n",
        "2. catogorical features는 변수 당 최대 37774개의 항목이 있음\n",
        "3. 전체 2536535 레코드 중 137개가 중복됨\n",
        "4. 77.8%의 레코드가 0으로 라벨링 되었으며, 나머지 22.2%가 1 (sufficiently balanced)\n",
        "\n",
        "추가적으로, train, validation, test datasets의 Timestamp는 정렬된 상태임\n",
        "\n",
        "위 내용에 기반해 이 노트북은 추가적인 피쳐 엔지니어링 및 모델링을 수행합니다."
      ]
    },
    {
      "cell_type": "code",
      "metadata": {
        "id": "8g4LUXAWnSvq"
      },
      "source": [
        "import pandas as pd\n",
        "import numpy as np\n",
        "import matplotlib.pyplot as plt\n",
        "import pickle\n",
        "from sklearn.preprocessing import OneHotEncoder\n",
        "import scipy\n",
        "from scipy import sparse\n",
        "import tensorflow as tf \n",
        "from sklearn.preprocessing import StandardScaler"
      ],
      "execution_count": 52,
      "outputs": []
    },
    {
      "cell_type": "code",
      "metadata": {
        "colab": {
          "base_uri": "https://localhost:8080/"
        },
        "id": "rzqRQmGmnWxH",
        "outputId": "fafdde53-ad5a-4509-8e81-94de3561ec51"
      },
      "source": [
        "from google.colab import drive\n",
        "\n",
        "drive.mount('/content/gdrive')"
      ],
      "execution_count": 53,
      "outputs": [
        {
          "output_type": "stream",
          "text": [
            "Drive already mounted at /content/gdrive; to attempt to forcibly remount, call drive.mount(\"/content/gdrive\", force_remount=True).\n"
          ],
          "name": "stdout"
        }
      ]
    },
    {
      "cell_type": "code",
      "metadata": {
        "id": "i2wLnmU8nXaU"
      },
      "source": [
        "train = pd.read_csv(\"gdrive/MyDrive/Colab Notebooks/kakaobank_ml/train.csv\")\n",
        "val = pd.read_csv(\"gdrive/MyDrive/Colab Notebooks/kakaobank_ml/validation.csv\")\n",
        "test = pd.read_csv(\"gdrive/MyDrive/Colab Notebooks/kakaobank_ml/test.csv\")"
      ],
      "execution_count": 54,
      "outputs": []
    },
    {
      "cell_type": "markdown",
      "metadata": {
        "id": "GM38FbtAnSvs"
      },
      "source": [
        "Data imputation: integer features\n",
        "\n",
        "모든 정수형 변수들은 0또는 -1에 치우친 분포를 갖으므로, 평균값이 아닌 중위값으로 NaN을 대체.\n",
        "\n",
        "또한 isNaN 변수를 생성하여 data imputation후에도 모델 훈련시 이를 활용할 수 있도록 함."
      ]
    },
    {
      "cell_type": "code",
      "metadata": {
        "id": "LnSCGpURnSvt"
      },
      "source": [
        "def int_features_impute(df):\n",
        "    for i in range(1,9):\n",
        "        imputed_variable = 'integer_'+str(i)+'_wasNaN'\n",
        "        feature_name = 'integer_feature_'+str(i)\n",
        "        df.assign(imputed_variable = np.where(df[feature_name]!= df[feature_name], 1, 0))\n",
        "        df[feature_name].fillna((df[feature_name].median()), inplace=True)\n",
        "    return df"
      ],
      "execution_count": 55,
      "outputs": []
    },
    {
      "cell_type": "markdown",
      "metadata": {
        "id": "0_LX8ohznSvt"
      },
      "source": [
        "Data imputation: categorical features\n",
        "\n",
        "범주형 변수의 경우, NaN값을 문자열 'nan'으로 대체. \n",
        "\n",
        "추후 validation, test dataset에서 테스트 데이터에 없는 항목이 나올 경우 Out of Vocabulary (OOV)처리 예정"
      ]
    },
    {
      "cell_type": "code",
      "metadata": {
        "id": "IOnXa6iwnSvt"
      },
      "source": [
        "def fillna_unknown(df):\n",
        "    imputed_df = df.fillna('nan')\n",
        "    return imputed_df"
      ],
      "execution_count": 56,
      "outputs": []
    },
    {
      "cell_type": "code",
      "metadata": {
        "id": "BAOoSNT_NiqR"
      },
      "source": [
        "train_df = int_features_impute(train)\n",
        "imputed_train = fillna_unknown(train_df)\n",
        "\n",
        "vali_df = int_features_impute(val)\n",
        "imputed_vali = fillna_unknown(vali_df)\n",
        "\n",
        "# test_df = int_features_impute(test)\n",
        "# test_df.pop('id')\n",
        "# imputed_test = fillna_unknown(test_df)"
      ],
      "execution_count": 57,
      "outputs": []
    },
    {
      "cell_type": "markdown",
      "metadata": {
        "id": "EjHmMxirhIfB"
      },
      "source": [
        "Feature normalization\n",
        "\n",
        "기존의 수치형 피쳐를 정규화(평균 0, 표준편차 1)\n",
        "\n",
        "메모리 절약을 위해 추가적인 피쳐엔지니어링 전에 수행"
      ]
    },
    {
      "cell_type": "code",
      "metadata": {
        "id": "Mj3yPWGshLEY"
      },
      "source": [
        "numeric_cols = ['click_timestamp', 'integer_feature_1', 'integer_feature_2',\n",
        "       'integer_feature_3', 'integer_feature_4', 'integer_feature_5',\n",
        "       'integer_feature_6', 'integer_feature_7', 'integer_feature_8']"
      ],
      "execution_count": 7,
      "outputs": []
    },
    {
      "cell_type": "code",
      "metadata": {
        "id": "YNCyTqpnfZG-"
      },
      "source": [
        "scaler = StandardScaler() \n",
        "numeric_train = scaler.fit_transform( imputed_train[numeric_cols] ) \n",
        "numeric_vali = scaler.transform( imputed_vali[numeric_cols] ) "
      ],
      "execution_count": 8,
      "outputs": []
    },
    {
      "cell_type": "code",
      "metadata": {
        "id": "OCqRtUhChx6R"
      },
      "source": [
        "imputed_train[numeric_cols] = numeric_train\n",
        "imputed_vali[numeric_cols] = numeric_vali"
      ],
      "execution_count": 9,
      "outputs": []
    },
    {
      "cell_type": "code",
      "metadata": {
        "colab": {
          "base_uri": "https://localhost:8080/",
          "height": 217
        },
        "id": "xTHaRu1yiPSW",
        "outputId": "8a098ff5-f1a8-4bf7-97a9-62993400152e"
      },
      "source": [
        "imputed_train.head()"
      ],
      "execution_count": 10,
      "outputs": [
        {
          "output_type": "execute_result",
          "data": {
            "text/html": [
              "<div>\n",
              "<style scoped>\n",
              "    .dataframe tbody tr th:only-of-type {\n",
              "        vertical-align: middle;\n",
              "    }\n",
              "\n",
              "    .dataframe tbody tr th {\n",
              "        vertical-align: top;\n",
              "    }\n",
              "\n",
              "    .dataframe thead th {\n",
              "        text-align: right;\n",
              "    }\n",
              "</style>\n",
              "<table border=\"1\" class=\"dataframe\">\n",
              "  <thead>\n",
              "    <tr style=\"text-align: right;\">\n",
              "      <th></th>\n",
              "      <th>click_timestamp</th>\n",
              "      <th>integer_feature_1</th>\n",
              "      <th>integer_feature_2</th>\n",
              "      <th>integer_feature_3</th>\n",
              "      <th>integer_feature_4</th>\n",
              "      <th>integer_feature_5</th>\n",
              "      <th>integer_feature_6</th>\n",
              "      <th>integer_feature_7</th>\n",
              "      <th>integer_feature_8</th>\n",
              "      <th>categorical_feature_1</th>\n",
              "      <th>categorical_feature_2</th>\n",
              "      <th>categorical_feature_3</th>\n",
              "      <th>categorical_feature_4</th>\n",
              "      <th>categorical_feature_5</th>\n",
              "      <th>categorical_feature_6</th>\n",
              "      <th>categorical_feature_7</th>\n",
              "      <th>categorical_feature_8</th>\n",
              "      <th>categorical_feature_9</th>\n",
              "      <th>label</th>\n",
              "    </tr>\n",
              "  </thead>\n",
              "  <tbody>\n",
              "    <tr>\n",
              "      <th>0</th>\n",
              "      <td>-1.797944</td>\n",
              "      <td>-0.158484</td>\n",
              "      <td>-0.273658</td>\n",
              "      <td>-0.262264</td>\n",
              "      <td>-0.144026</td>\n",
              "      <td>-0.269290</td>\n",
              "      <td>-0.192979</td>\n",
              "      <td>-0.212794</td>\n",
              "      <td>-0.322726</td>\n",
              "      <td>82584581</td>\n",
              "      <td>572ee1a4</td>\n",
              "      <td>414baade</td>\n",
              "      <td>0ab261cb</td>\n",
              "      <td>4ab811c9</td>\n",
              "      <td>nan</td>\n",
              "      <td>f8cbd89d</td>\n",
              "      <td>776ce399</td>\n",
              "      <td>nan</td>\n",
              "      <td>0</td>\n",
              "    </tr>\n",
              "    <tr>\n",
              "      <th>1</th>\n",
              "      <td>-1.797940</td>\n",
              "      <td>0.220638</td>\n",
              "      <td>0.668383</td>\n",
              "      <td>1.954428</td>\n",
              "      <td>0.078918</td>\n",
              "      <td>1.815397</td>\n",
              "      <td>-0.391918</td>\n",
              "      <td>-0.187862</td>\n",
              "      <td>-0.077319</td>\n",
              "      <td>4ba15056</td>\n",
              "      <td>9cc5f4bc</td>\n",
              "      <td>1f0cb5c0</td>\n",
              "      <td>c84c9c4e</td>\n",
              "      <td>6b4b1a1d</td>\n",
              "      <td>c82b2a00</td>\n",
              "      <td>9ac3fc32</td>\n",
              "      <td>3486227d</td>\n",
              "      <td>9a2a221f</td>\n",
              "      <td>0</td>\n",
              "    </tr>\n",
              "    <tr>\n",
              "      <th>2</th>\n",
              "      <td>-1.797907</td>\n",
              "      <td>-0.158484</td>\n",
              "      <td>-0.273658</td>\n",
              "      <td>-0.262264</td>\n",
              "      <td>-0.144026</td>\n",
              "      <td>-0.269290</td>\n",
              "      <td>0.403839</td>\n",
              "      <td>-0.250288</td>\n",
              "      <td>-0.182493</td>\n",
              "      <td>9a9e5801</td>\n",
              "      <td>bbf70d82</td>\n",
              "      <td>0fb83956</td>\n",
              "      <td>2ff05004</td>\n",
              "      <td>ab2497dc</td>\n",
              "      <td>nan</td>\n",
              "      <td>862dcf90</td>\n",
              "      <td>e5ba7672</td>\n",
              "      <td>nan</td>\n",
              "      <td>0</td>\n",
              "    </tr>\n",
              "    <tr>\n",
              "      <th>3</th>\n",
              "      <td>-1.797898</td>\n",
              "      <td>-0.158484</td>\n",
              "      <td>-0.273658</td>\n",
              "      <td>-0.262264</td>\n",
              "      <td>-0.144026</td>\n",
              "      <td>-0.269290</td>\n",
              "      <td>-0.192979</td>\n",
              "      <td>-0.246315</td>\n",
              "      <td>-0.322726</td>\n",
              "      <td>24ad6de8</td>\n",
              "      <td>243a7e36</td>\n",
              "      <td>9dc594c1</td>\n",
              "      <td>aacfa636</td>\n",
              "      <td>b3f7fb1d</td>\n",
              "      <td>nan</td>\n",
              "      <td>3f172b3f</td>\n",
              "      <td>3486227d</td>\n",
              "      <td>nan</td>\n",
              "      <td>1</td>\n",
              "    </tr>\n",
              "    <tr>\n",
              "      <th>4</th>\n",
              "      <td>-1.797886</td>\n",
              "      <td>-0.158484</td>\n",
              "      <td>-0.273658</td>\n",
              "      <td>-0.262264</td>\n",
              "      <td>-0.144026</td>\n",
              "      <td>-0.269290</td>\n",
              "      <td>0.204899</td>\n",
              "      <td>-0.250288</td>\n",
              "      <td>-0.094848</td>\n",
              "      <td>4f06a460</td>\n",
              "      <td>5911fc7e</td>\n",
              "      <td>d5b22f0b</td>\n",
              "      <td>cd57c18b</td>\n",
              "      <td>a8840224</td>\n",
              "      <td>nan</td>\n",
              "      <td>8d787bee</td>\n",
              "      <td>e5ba7672</td>\n",
              "      <td>nan</td>\n",
              "      <td>0</td>\n",
              "    </tr>\n",
              "  </tbody>\n",
              "</table>\n",
              "</div>"
            ],
            "text/plain": [
              "   click_timestamp  integer_feature_1  ...  categorical_feature_9  label\n",
              "0        -1.797944          -0.158484  ...                    nan      0\n",
              "1        -1.797940           0.220638  ...               9a2a221f      0\n",
              "2        -1.797907          -0.158484  ...                    nan      0\n",
              "3        -1.797898          -0.158484  ...                    nan      1\n",
              "4        -1.797886          -0.158484  ...                    nan      0\n",
              "\n",
              "[5 rows x 19 columns]"
            ]
          },
          "metadata": {
            "tags": []
          },
          "execution_count": 10
        }
      ]
    },
    {
      "cell_type": "markdown",
      "metadata": {
        "id": "_JFhht8PbWdl"
      },
      "source": [
        "Time-series feature generation.\n",
        "\n",
        "이전과 현재 행들을 포함하여 2,5,10개 행들의 평균/표준편차를 피쳐로 사용"
      ]
    },
    {
      "cell_type": "code",
      "metadata": {
        "id": "CUVoLKBzS7LO"
      },
      "source": [
        "concat_df = pd.concat([imputed_train, imputed_vali],axis=0)"
      ],
      "execution_count": 11,
      "outputs": []
    },
    {
      "cell_type": "code",
      "metadata": {
        "id": "kE0Vr3whSvZk"
      },
      "source": [
        "window=2"
      ],
      "execution_count": 12,
      "outputs": []
    },
    {
      "cell_type": "code",
      "metadata": {
        "id": "37cnadPDSy0a"
      },
      "source": [
        "def past_features_create(df, window=100):\n",
        "  for i in range(1,9):\n",
        "    df['avg_int'+str(i)] = df['integer_feature_'+str(i)].rolling(window=window).mean() \n",
        "    df['var_int'+str(i)] = df['integer_feature_'+str(i)].rolling(window=window).std() \n",
        "    df['avg_int'+str(i)+'_5'] = df['integer_feature_'+str(i)].rolling(window=window*5).mean() \n",
        "    df['var_int'+str(i)+'_5'] = df['integer_feature_'+str(i)].rolling(window=window*5).std() \n",
        "    df['avg_int'+str(i)+'_10'] = df['integer_feature_'+str(i)].rolling(window=window*10).mean() \n",
        "    df['var_int'+str(i)+'_10'] = df['integer_feature_'+str(i)].rolling(window=window*10).std() \n",
        "  return df"
      ],
      "execution_count": 13,
      "outputs": []
    },
    {
      "cell_type": "code",
      "metadata": {
        "id": "pWUzr5umS1ZW"
      },
      "source": [
        "concat_df_timefeatures = past_features_create(concat_df,  window=window).iloc[10*window-1:,:]"
      ],
      "execution_count": 14,
      "outputs": []
    },
    {
      "cell_type": "code",
      "metadata": {
        "id": "cBNJcNjTTKaE"
      },
      "source": [
        "final_train = concat_df_timefeatures.iloc[:-len(val),:]\n",
        "final_vali = concat_df_timefeatures.iloc[-len(val):,:]\n",
        "# final_test = concat_df_timefeatures.iloc[-len(test):,:]"
      ],
      "execution_count": 15,
      "outputs": []
    },
    {
      "cell_type": "code",
      "metadata": {
        "colab": {
          "base_uri": "https://localhost:8080/",
          "height": 301
        },
        "id": "ujiikvT0TgDW",
        "outputId": "146ad0f7-a95f-4e95-9730-47c1fb260998"
      },
      "source": [
        "final_train.head()"
      ],
      "execution_count": 16,
      "outputs": [
        {
          "output_type": "execute_result",
          "data": {
            "text/html": [
              "<div>\n",
              "<style scoped>\n",
              "    .dataframe tbody tr th:only-of-type {\n",
              "        vertical-align: middle;\n",
              "    }\n",
              "\n",
              "    .dataframe tbody tr th {\n",
              "        vertical-align: top;\n",
              "    }\n",
              "\n",
              "    .dataframe thead th {\n",
              "        text-align: right;\n",
              "    }\n",
              "</style>\n",
              "<table border=\"1\" class=\"dataframe\">\n",
              "  <thead>\n",
              "    <tr style=\"text-align: right;\">\n",
              "      <th></th>\n",
              "      <th>click_timestamp</th>\n",
              "      <th>integer_feature_1</th>\n",
              "      <th>integer_feature_2</th>\n",
              "      <th>integer_feature_3</th>\n",
              "      <th>integer_feature_4</th>\n",
              "      <th>integer_feature_5</th>\n",
              "      <th>integer_feature_6</th>\n",
              "      <th>integer_feature_7</th>\n",
              "      <th>integer_feature_8</th>\n",
              "      <th>categorical_feature_1</th>\n",
              "      <th>categorical_feature_2</th>\n",
              "      <th>categorical_feature_3</th>\n",
              "      <th>categorical_feature_4</th>\n",
              "      <th>categorical_feature_5</th>\n",
              "      <th>categorical_feature_6</th>\n",
              "      <th>categorical_feature_7</th>\n",
              "      <th>categorical_feature_8</th>\n",
              "      <th>categorical_feature_9</th>\n",
              "      <th>label</th>\n",
              "      <th>avg_int1</th>\n",
              "      <th>var_int1</th>\n",
              "      <th>avg_int1_5</th>\n",
              "      <th>var_int1_5</th>\n",
              "      <th>avg_int1_10</th>\n",
              "      <th>var_int1_10</th>\n",
              "      <th>avg_int2</th>\n",
              "      <th>var_int2</th>\n",
              "      <th>avg_int2_5</th>\n",
              "      <th>var_int2_5</th>\n",
              "      <th>avg_int2_10</th>\n",
              "      <th>var_int2_10</th>\n",
              "      <th>avg_int3</th>\n",
              "      <th>var_int3</th>\n",
              "      <th>avg_int3_5</th>\n",
              "      <th>var_int3_5</th>\n",
              "      <th>avg_int3_10</th>\n",
              "      <th>var_int3_10</th>\n",
              "      <th>avg_int4</th>\n",
              "      <th>var_int4</th>\n",
              "      <th>avg_int4_5</th>\n",
              "      <th>var_int4_5</th>\n",
              "      <th>avg_int4_10</th>\n",
              "      <th>var_int4_10</th>\n",
              "      <th>avg_int5</th>\n",
              "      <th>var_int5</th>\n",
              "      <th>avg_int5_5</th>\n",
              "      <th>var_int5_5</th>\n",
              "      <th>avg_int5_10</th>\n",
              "      <th>var_int5_10</th>\n",
              "      <th>avg_int6</th>\n",
              "      <th>var_int6</th>\n",
              "      <th>avg_int6_5</th>\n",
              "      <th>var_int6_5</th>\n",
              "      <th>avg_int6_10</th>\n",
              "      <th>var_int6_10</th>\n",
              "      <th>avg_int7</th>\n",
              "      <th>var_int7</th>\n",
              "      <th>avg_int7_5</th>\n",
              "      <th>var_int7_5</th>\n",
              "      <th>avg_int7_10</th>\n",
              "      <th>var_int7_10</th>\n",
              "      <th>avg_int8</th>\n",
              "      <th>var_int8</th>\n",
              "      <th>avg_int8_5</th>\n",
              "      <th>var_int8_5</th>\n",
              "      <th>avg_int8_10</th>\n",
              "      <th>var_int8_10</th>\n",
              "    </tr>\n",
              "  </thead>\n",
              "  <tbody>\n",
              "    <tr>\n",
              "      <th>19</th>\n",
              "      <td>-1.797820</td>\n",
              "      <td>-0.158484</td>\n",
              "      <td>-0.273658</td>\n",
              "      <td>-0.262264</td>\n",
              "      <td>-0.144026</td>\n",
              "      <td>-0.26929</td>\n",
              "      <td>-0.391918</td>\n",
              "      <td>-0.175869</td>\n",
              "      <td>-0.235080</td>\n",
              "      <td>ac9c9952</td>\n",
              "      <td>ae46962e</td>\n",
              "      <td>ad3508b1</td>\n",
              "      <td>575579da</td>\n",
              "      <td>93b18cb5</td>\n",
              "      <td>nan</td>\n",
              "      <td>59a58e86</td>\n",
              "      <td>e5ba7672</td>\n",
              "      <td>nan</td>\n",
              "      <td>0</td>\n",
              "      <td>-0.158484</td>\n",
              "      <td>3.725290e-09</td>\n",
              "      <td>-0.120572</td>\n",
              "      <td>0.119889</td>\n",
              "      <td>-0.120572</td>\n",
              "      <td>0.116691</td>\n",
              "      <td>-0.273658</td>\n",
              "      <td>0.000000</td>\n",
              "      <td>-0.179454</td>\n",
              "      <td>0.2979</td>\n",
              "      <td>-0.179454</td>\n",
              "      <td>0.289954</td>\n",
              "      <td>-0.262264</td>\n",
              "      <td>1.435264e-09</td>\n",
              "      <td>-0.14332</td>\n",
              "      <td>0.363647</td>\n",
              "      <td>-0.091958</td>\n",
              "      <td>0.546051</td>\n",
              "      <td>-0.144026</td>\n",
              "      <td>3.725290e-09</td>\n",
              "      <td>-0.077143</td>\n",
              "      <td>0.150476</td>\n",
              "      <td>-0.099437</td>\n",
              "      <td>0.116633</td>\n",
              "      <td>-0.269290</td>\n",
              "      <td>0.000000</td>\n",
              "      <td>-0.160819</td>\n",
              "      <td>0.343017</td>\n",
              "      <td>-0.110820</td>\n",
              "      <td>0.514028</td>\n",
              "      <td>-0.292449</td>\n",
              "      <td>0.140671</td>\n",
              "      <td>0.513255</td>\n",
              "      <td>1.385015</td>\n",
              "      <td>0.209873</td>\n",
              "      <td>1.025868</td>\n",
              "      <td>-0.050620</td>\n",
              "      <td>0.177128</td>\n",
              "      <td>-0.141035</td>\n",
              "      <td>0.126937</td>\n",
              "      <td>-0.162190</td>\n",
              "      <td>0.106953</td>\n",
              "      <td>0.054149</td>\n",
              "      <td>0.409031</td>\n",
              "      <td>0.015585</td>\n",
              "      <td>0.379035</td>\n",
              "      <td>-0.067678</td>\n",
              "      <td>0.298046</td>\n",
              "    </tr>\n",
              "    <tr>\n",
              "      <th>20</th>\n",
              "      <td>-1.797820</td>\n",
              "      <td>-0.158484</td>\n",
              "      <td>-0.273658</td>\n",
              "      <td>-0.262264</td>\n",
              "      <td>-0.144026</td>\n",
              "      <td>-0.26929</td>\n",
              "      <td>-0.292449</td>\n",
              "      <td>-0.234889</td>\n",
              "      <td>-0.287667</td>\n",
              "      <td>faca1639</td>\n",
              "      <td>4807da4a</td>\n",
              "      <td>7fde5a70</td>\n",
              "      <td>23c80a6e</td>\n",
              "      <td>e69eaa04</td>\n",
              "      <td>nan</td>\n",
              "      <td>d2df39f3</td>\n",
              "      <td>e5ba7672</td>\n",
              "      <td>nan</td>\n",
              "      <td>0</td>\n",
              "      <td>-0.158484</td>\n",
              "      <td>3.725290e-09</td>\n",
              "      <td>-0.120572</td>\n",
              "      <td>0.119889</td>\n",
              "      <td>-0.120572</td>\n",
              "      <td>0.116691</td>\n",
              "      <td>-0.273658</td>\n",
              "      <td>0.000000</td>\n",
              "      <td>-0.179454</td>\n",
              "      <td>0.2979</td>\n",
              "      <td>-0.179454</td>\n",
              "      <td>0.289954</td>\n",
              "      <td>-0.262264</td>\n",
              "      <td>1.435264e-09</td>\n",
              "      <td>-0.14332</td>\n",
              "      <td>0.363647</td>\n",
              "      <td>-0.091958</td>\n",
              "      <td>0.546051</td>\n",
              "      <td>-0.144026</td>\n",
              "      <td>3.725290e-09</td>\n",
              "      <td>-0.077143</td>\n",
              "      <td>0.150476</td>\n",
              "      <td>-0.099437</td>\n",
              "      <td>0.116633</td>\n",
              "      <td>-0.269290</td>\n",
              "      <td>0.000000</td>\n",
              "      <td>-0.160819</td>\n",
              "      <td>0.343017</td>\n",
              "      <td>-0.110820</td>\n",
              "      <td>0.514028</td>\n",
              "      <td>-0.342184</td>\n",
              "      <td>0.070336</td>\n",
              "      <td>0.503308</td>\n",
              "      <td>1.390995</td>\n",
              "      <td>0.204899</td>\n",
              "      <td>1.028163</td>\n",
              "      <td>-0.205379</td>\n",
              "      <td>0.041734</td>\n",
              "      <td>-0.142185</td>\n",
              "      <td>0.127815</td>\n",
              "      <td>-0.163294</td>\n",
              "      <td>0.107615</td>\n",
              "      <td>-0.261374</td>\n",
              "      <td>0.037185</td>\n",
              "      <td>0.015585</td>\n",
              "      <td>0.379035</td>\n",
              "      <td>-0.065925</td>\n",
              "      <td>0.296567</td>\n",
              "    </tr>\n",
              "    <tr>\n",
              "      <th>21</th>\n",
              "      <td>-1.797804</td>\n",
              "      <td>-0.158484</td>\n",
              "      <td>-0.273658</td>\n",
              "      <td>-0.262264</td>\n",
              "      <td>-0.144026</td>\n",
              "      <td>-0.26929</td>\n",
              "      <td>-0.192979</td>\n",
              "      <td>0.022002</td>\n",
              "      <td>-0.217551</td>\n",
              "      <td>d654cd67</td>\n",
              "      <td>04d863d5</td>\n",
              "      <td>7fde5a70</td>\n",
              "      <td>23c80a6e</td>\n",
              "      <td>e69eaa04</td>\n",
              "      <td>nan</td>\n",
              "      <td>fec218c0</td>\n",
              "      <td>e5ba7672</td>\n",
              "      <td>nan</td>\n",
              "      <td>0</td>\n",
              "      <td>-0.158484</td>\n",
              "      <td>3.725290e-09</td>\n",
              "      <td>-0.158484</td>\n",
              "      <td>0.000000</td>\n",
              "      <td>-0.139528</td>\n",
              "      <td>0.084774</td>\n",
              "      <td>-0.273658</td>\n",
              "      <td>0.000000</td>\n",
              "      <td>-0.273658</td>\n",
              "      <td>0.0000</td>\n",
              "      <td>-0.226556</td>\n",
              "      <td>0.210647</td>\n",
              "      <td>-0.262264</td>\n",
              "      <td>1.435264e-09</td>\n",
              "      <td>-0.25866</td>\n",
              "      <td>0.011398</td>\n",
              "      <td>-0.202792</td>\n",
              "      <td>0.257610</td>\n",
              "      <td>-0.144026</td>\n",
              "      <td>3.725290e-09</td>\n",
              "      <td>-0.121732</td>\n",
              "      <td>0.070501</td>\n",
              "      <td>-0.110585</td>\n",
              "      <td>0.109100</td>\n",
              "      <td>-0.269290</td>\n",
              "      <td>0.000000</td>\n",
              "      <td>-0.269290</td>\n",
              "      <td>0.000000</td>\n",
              "      <td>-0.215054</td>\n",
              "      <td>0.242550</td>\n",
              "      <td>-0.242714</td>\n",
              "      <td>0.070336</td>\n",
              "      <td>0.503308</td>\n",
              "      <td>1.390995</td>\n",
              "      <td>0.214846</td>\n",
              "      <td>1.023034</td>\n",
              "      <td>-0.106444</td>\n",
              "      <td>0.181650</td>\n",
              "      <td>-0.126469</td>\n",
              "      <td>0.138029</td>\n",
              "      <td>-0.152801</td>\n",
              "      <td>0.115067</td>\n",
              "      <td>-0.252609</td>\n",
              "      <td>0.049580</td>\n",
              "      <td>-0.010709</td>\n",
              "      <td>0.385798</td>\n",
              "      <td>-0.072937</td>\n",
              "      <td>0.298502</td>\n",
              "    </tr>\n",
              "    <tr>\n",
              "      <th>22</th>\n",
              "      <td>-1.797804</td>\n",
              "      <td>-0.158484</td>\n",
              "      <td>-0.273658</td>\n",
              "      <td>-0.262264</td>\n",
              "      <td>-0.144026</td>\n",
              "      <td>-0.26929</td>\n",
              "      <td>0.105430</td>\n",
              "      <td>-0.250061</td>\n",
              "      <td>-0.235080</td>\n",
              "      <td>c13b3446</td>\n",
              "      <td>fffe2a63</td>\n",
              "      <td>ca280131</td>\n",
              "      <td>621dddfe</td>\n",
              "      <td>fc5dea81</td>\n",
              "      <td>nan</td>\n",
              "      <td>06373944</td>\n",
              "      <td>e5ba7672</td>\n",
              "      <td>nan</td>\n",
              "      <td>0</td>\n",
              "      <td>-0.158484</td>\n",
              "      <td>3.725290e-09</td>\n",
              "      <td>-0.158484</td>\n",
              "      <td>0.000000</td>\n",
              "      <td>-0.139528</td>\n",
              "      <td>0.084774</td>\n",
              "      <td>-0.273658</td>\n",
              "      <td>0.000000</td>\n",
              "      <td>-0.273658</td>\n",
              "      <td>0.0000</td>\n",
              "      <td>-0.226556</td>\n",
              "      <td>0.210647</td>\n",
              "      <td>-0.262264</td>\n",
              "      <td>1.435264e-09</td>\n",
              "      <td>-0.25866</td>\n",
              "      <td>0.011398</td>\n",
              "      <td>-0.202792</td>\n",
              "      <td>0.257610</td>\n",
              "      <td>-0.144026</td>\n",
              "      <td>3.725290e-09</td>\n",
              "      <td>-0.121732</td>\n",
              "      <td>0.070501</td>\n",
              "      <td>-0.110585</td>\n",
              "      <td>0.109100</td>\n",
              "      <td>-0.269290</td>\n",
              "      <td>0.000000</td>\n",
              "      <td>-0.269290</td>\n",
              "      <td>0.000000</td>\n",
              "      <td>-0.215054</td>\n",
              "      <td>0.242550</td>\n",
              "      <td>-0.043775</td>\n",
              "      <td>0.211007</td>\n",
              "      <td>0.533149</td>\n",
              "      <td>1.377534</td>\n",
              "      <td>0.199926</td>\n",
              "      <td>1.022309</td>\n",
              "      <td>-0.114029</td>\n",
              "      <td>0.192377</td>\n",
              "      <td>-0.151609</td>\n",
              "      <td>0.135025</td>\n",
              "      <td>-0.152790</td>\n",
              "      <td>0.115057</td>\n",
              "      <td>-0.226316</td>\n",
              "      <td>0.012395</td>\n",
              "      <td>-0.017720</td>\n",
              "      <td>0.389532</td>\n",
              "      <td>-0.075566</td>\n",
              "      <td>0.299747</td>\n",
              "    </tr>\n",
              "    <tr>\n",
              "      <th>23</th>\n",
              "      <td>-1.797804</td>\n",
              "      <td>0.220638</td>\n",
              "      <td>0.668383</td>\n",
              "      <td>-0.262264</td>\n",
              "      <td>-0.144026</td>\n",
              "      <td>2.17132</td>\n",
              "      <td>-0.093510</td>\n",
              "      <td>-0.249455</td>\n",
              "      <td>0.203145</td>\n",
              "      <td>4bbb6072</td>\n",
              "      <td>65c9624a</td>\n",
              "      <td>3d80d418</td>\n",
              "      <td>bd3bc740</td>\n",
              "      <td>dd2f45db</td>\n",
              "      <td>0798bd9b</td>\n",
              "      <td>e44b5a03</td>\n",
              "      <td>3486227d</td>\n",
              "      <td>aab7b783</td>\n",
              "      <td>1</td>\n",
              "      <td>0.031077</td>\n",
              "      <td>2.680799e-01</td>\n",
              "      <td>-0.120572</td>\n",
              "      <td>0.119889</td>\n",
              "      <td>-0.120572</td>\n",
              "      <td>0.116691</td>\n",
              "      <td>0.197363</td>\n",
              "      <td>0.666124</td>\n",
              "      <td>-0.179454</td>\n",
              "      <td>0.2979</td>\n",
              "      <td>-0.179454</td>\n",
              "      <td>0.289954</td>\n",
              "      <td>-0.262264</td>\n",
              "      <td>1.435264e-09</td>\n",
              "      <td>-0.25866</td>\n",
              "      <td>0.011398</td>\n",
              "      <td>-0.202792</td>\n",
              "      <td>0.257610</td>\n",
              "      <td>-0.144026</td>\n",
              "      <td>3.725290e-09</td>\n",
              "      <td>-0.121732</td>\n",
              "      <td>0.070501</td>\n",
              "      <td>-0.110585</td>\n",
              "      <td>0.109100</td>\n",
              "      <td>0.951015</td>\n",
              "      <td>1.725772</td>\n",
              "      <td>-0.025229</td>\n",
              "      <td>0.771789</td>\n",
              "      <td>-0.093024</td>\n",
              "      <td>0.585428</td>\n",
              "      <td>0.005960</td>\n",
              "      <td>0.140671</td>\n",
              "      <td>0.543096</td>\n",
              "      <td>1.372056</td>\n",
              "      <td>0.204899</td>\n",
              "      <td>1.020537</td>\n",
              "      <td>-0.249758</td>\n",
              "      <td>0.000428</td>\n",
              "      <td>-0.179050</td>\n",
              "      <td>0.122455</td>\n",
              "      <td>-0.152947</td>\n",
              "      <td>0.115194</td>\n",
              "      <td>-0.015968</td>\n",
              "      <td>0.309872</td>\n",
              "      <td>0.019090</td>\n",
              "      <td>0.391460</td>\n",
              "      <td>-0.049273</td>\n",
              "      <td>0.299989</td>\n",
              "    </tr>\n",
              "  </tbody>\n",
              "</table>\n",
              "</div>"
            ],
            "text/plain": [
              "    click_timestamp  integer_feature_1  ...  avg_int8_10  var_int8_10\n",
              "19        -1.797820          -0.158484  ...    -0.067678     0.298046\n",
              "20        -1.797820          -0.158484  ...    -0.065925     0.296567\n",
              "21        -1.797804          -0.158484  ...    -0.072937     0.298502\n",
              "22        -1.797804          -0.158484  ...    -0.075566     0.299747\n",
              "23        -1.797804           0.220638  ...    -0.049273     0.299989\n",
              "\n",
              "[5 rows x 67 columns]"
            ]
          },
          "metadata": {
            "tags": []
          },
          "execution_count": 16
        }
      ]
    },
    {
      "cell_type": "markdown",
      "metadata": {
        "id": "e3Xf4Yatbind"
      },
      "source": [
        "Tensorflow input data creation\n",
        "\n",
        "판다스 데이터프레임을 텐서플로 데이터셋으로 변형"
      ]
    },
    {
      "cell_type": "code",
      "metadata": {
        "id": "OJgQjQJcNkaH"
      },
      "source": [
        "def df_to_dataset(dataframe, shuffle=False, batch_size=1000):\n",
        "  dataframe = dataframe.copy()\n",
        "  labels = dataframe.pop('label')\n",
        "  ds = tf.data.Dataset.from_tensor_slices((dict(dataframe), labels))\n",
        "  if shuffle:\n",
        "    ds = ds.shuffle(buffer_size=len(dataframe))\n",
        "  ds = ds.batch(batch_size)\n",
        "  return ds"
      ],
      "execution_count": 19,
      "outputs": []
    },
    {
      "cell_type": "code",
      "metadata": {
        "id": "6kpfwl6xNlDk"
      },
      "source": [
        "train_ds = df_to_dataset(final_train)\n",
        "vali_ds = df_to_dataset(final_vali)\n",
        "# test_ds = df_to_dataset(final_test)"
      ],
      "execution_count": 20,
      "outputs": []
    },
    {
      "cell_type": "code",
      "metadata": {
        "id": "uQkQwUXDOv0l"
      },
      "source": [
        "import tensorflow as tf\n",
        "\n",
        "from tensorflow import feature_column\n",
        "from tensorflow.keras import layers\n",
        "from sklearn.model_selection import train_test_split\n"
      ],
      "execution_count": 21,
      "outputs": []
    },
    {
      "cell_type": "code",
      "metadata": {
        "id": "SajYp4F6Pwkv"
      },
      "source": [
        "def demo(feature_column):\n",
        "  feature_layer = layers.DenseFeatures(feature_column)\n",
        "  print(feature_layer(example_batch).numpy())"
      ],
      "execution_count": 22,
      "outputs": []
    },
    {
      "cell_type": "code",
      "metadata": {
        "id": "1Pg-QK49PCPe"
      },
      "source": [
        "example_batch = next(iter(train_ds))[0]"
      ],
      "execution_count": 23,
      "outputs": []
    },
    {
      "cell_type": "code",
      "metadata": {
        "id": "j-owRKfeVVwt"
      },
      "source": [
        "numeric_cols2 = ['click_timestamp', 'integer_feature_1', 'integer_feature_2',\n",
        "       'integer_feature_3', 'integer_feature_4', 'integer_feature_5',\n",
        "       'integer_feature_6', 'integer_feature_7', 'integer_feature_8','avg_int1', 'var_int1', 'avg_int1_5',\n",
        "       'var_int1_5', 'avg_int1_10', 'var_int1_10', 'avg_int2', 'var_int2',\n",
        "       'avg_int2_5', 'var_int2_5', 'avg_int2_10', 'var_int2_10', 'avg_int3',\n",
        "       'var_int3', 'avg_int3_5', 'var_int3_5', 'avg_int3_10', 'var_int3_10',\n",
        "       'avg_int4', 'var_int4', 'avg_int4_5', 'var_int4_5', 'avg_int4_10',\n",
        "       'var_int4_10', 'avg_int5', 'var_int5', 'avg_int5_5', 'var_int5_5',\n",
        "       'avg_int5_10', 'var_int5_10', 'avg_int6', 'var_int6', 'avg_int6_5',\n",
        "       'var_int6_5', 'avg_int6_10', 'var_int6_10', 'avg_int7', 'var_int7',\n",
        "       'avg_int7_5', 'var_int7_5', 'avg_int7_10', 'var_int7_10', 'avg_int8',\n",
        "       'var_int8', 'avg_int8_5', 'var_int8_5', 'avg_int8_10', 'var_int8_10']"
      ],
      "execution_count": 24,
      "outputs": []
    },
    {
      "cell_type": "markdown",
      "metadata": {
        "id": "EjKYNCCvb9dw"
      },
      "source": [
        "Feature layer creation\n",
        "\n",
        "첫 레이어에서 카테고리형 피쳐들을 임베딩"
      ]
    },
    {
      "cell_type": "code",
      "metadata": {
        "id": "kn7ceVLtO0fI"
      },
      "source": [
        "feature_columns = []\n",
        "\n",
        "# 수치형 열\n",
        "for header in numeric_cols2:\n",
        "  feature_columns.append(feature_column.numeric_column(header))\n",
        "\n",
        "\n",
        "# 임베딩 열\n",
        "for cate_number in range(1,10):\n",
        "  cate = feature_column.categorical_column_with_vocabulary_list(\n",
        "        'categorical_feature_'+str(cate_number), np.unique(final_train['categorical_feature_'+str(cate_number)]))\n",
        "  cate_embedding = feature_column.embedding_column(cate, dimension=100)\n",
        "  feature_columns.append(cate_embedding)"
      ],
      "execution_count": 46,
      "outputs": []
    },
    {
      "cell_type": "code",
      "metadata": {
        "id": "DNQuEAQ1Rb6N"
      },
      "source": [
        "feature_layer = tf.keras.layers.DenseFeatures(feature_columns)"
      ],
      "execution_count": 47,
      "outputs": []
    },
    {
      "cell_type": "markdown",
      "metadata": {
        "id": "mpcQCifRmz85"
      },
      "source": [
        "Modeling\n",
        "\n",
        "모델링의 핵심적인 이슈는 오버피팅이였으며, 이를 해결하기위해 0.7이상의 dropout과 0.01이상의 regularization 사용"
      ]
    },
    {
      "cell_type": "code",
      "metadata": {
        "id": "5JlpkkTFRn4v"
      },
      "source": [
        "import keras"
      ],
      "execution_count": 48,
      "outputs": []
    },
    {
      "cell_type": "code",
      "metadata": {
        "colab": {
          "base_uri": "https://localhost:8080/"
        },
        "id": "1LFEwSwdVrhP",
        "outputId": "4544000c-fc39-47b3-e7cd-67d991b82e40"
      },
      "source": [
        "model = tf.keras.models.Sequential([\n",
        "  feature_layer,\n",
        "  # tf.keras.layers.Dropout(0.5),\n",
        "  # tf.keras.layers.Dense(256, activation='relu', kernel_regularizer=keras.regularizers.l2(1e-2)),  \n",
        "  tf.keras.layers.Dropout(0.5),\n",
        "  tf.keras.layers.Dense(128, activation='relu', kernel_regularizer=keras.regularizers.l2(1e-2)),  \n",
        "  tf.keras.layers.Dropout(0.7),\n",
        "  tf.keras.layers.Dense(32, activation='relu', kernel_regularizer=keras.regularizers.l2(1e-1)),  \n",
        "  tf.keras.layers.Dropout(0.8),  \n",
        "  layers.Dense(1, activation='sigmoid', kernel_regularizer=keras.regularizers.l2(1e-4))\n",
        "])\n",
        "\n",
        "\n",
        "model.compile(optimizer='adam',\n",
        "              loss='binary_crossentropy',\n",
        "              metrics=['accuracy'])\n",
        "\n",
        "history = model.fit(train_ds,\n",
        "          validation_data=vali_ds,\n",
        "          epochs=10, \n",
        "          batch_size=1000,\n",
        "          verbose=1, \n",
        "          shuffle=True)"
      ],
      "execution_count": 49,
      "outputs": [
        {
          "output_type": "stream",
          "text": [
            "Epoch 1/10\n",
            "WARNING:tensorflow:Layers in a Sequential model should only have a single input tensor, but we receive a <class 'dict'> input: {'click_timestamp': <tf.Tensor 'ExpandDims_33:0' shape=(None, 1) dtype=float64>, 'integer_feature_1': <tf.Tensor 'ExpandDims_34:0' shape=(None, 1) dtype=float64>, 'integer_feature_2': <tf.Tensor 'ExpandDims_35:0' shape=(None, 1) dtype=float64>, 'integer_feature_3': <tf.Tensor 'ExpandDims_36:0' shape=(None, 1) dtype=float64>, 'integer_feature_4': <tf.Tensor 'ExpandDims_37:0' shape=(None, 1) dtype=float64>, 'integer_feature_5': <tf.Tensor 'ExpandDims_38:0' shape=(None, 1) dtype=float64>, 'integer_feature_6': <tf.Tensor 'ExpandDims_39:0' shape=(None, 1) dtype=float64>, 'integer_feature_7': <tf.Tensor 'ExpandDims_40:0' shape=(None, 1) dtype=float64>, 'integer_feature_8': <tf.Tensor 'ExpandDims_41:0' shape=(None, 1) dtype=float64>, 'categorical_feature_1': <tf.Tensor 'ExpandDims_24:0' shape=(None, 1) dtype=string>, 'categorical_feature_2': <tf.Tensor 'ExpandDims_25:0' shape=(None, 1) dtype=string>, 'categorical_feature_3': <tf.Tensor 'ExpandDims_26:0' shape=(None, 1) dtype=string>, 'categorical_feature_4': <tf.Tensor 'ExpandDims_27:0' shape=(None, 1) dtype=string>, 'categorical_feature_5': <tf.Tensor 'ExpandDims_28:0' shape=(None, 1) dtype=string>, 'categorical_feature_6': <tf.Tensor 'ExpandDims_29:0' shape=(None, 1) dtype=string>, 'categorical_feature_7': <tf.Tensor 'ExpandDims_30:0' shape=(None, 1) dtype=string>, 'categorical_feature_8': <tf.Tensor 'ExpandDims_31:0' shape=(None, 1) dtype=string>, 'categorical_feature_9': <tf.Tensor 'ExpandDims_32:0' shape=(None, 1) dtype=string>, 'avg_int1': <tf.Tensor 'ExpandDims:0' shape=(None, 1) dtype=float64>, 'var_int1': <tf.Tensor 'ExpandDims_42:0' shape=(None, 1) dtype=float64>, 'avg_int1_5': <tf.Tensor 'ExpandDims_2:0' shape=(None, 1) dtype=float64>, 'var_int1_5': <tf.Tensor 'ExpandDims_44:0' shape=(None, 1) dtype=float64>, 'avg_int1_10': <tf.Tensor 'ExpandDims_1:0' shape=(None, 1) dtype=float64>, 'var_int1_10': <tf.Tensor 'ExpandDims_43:0' shape=(None, 1) dtype=float64>, 'avg_int2': <tf.Tensor 'ExpandDims_3:0' shape=(None, 1) dtype=float64>, 'var_int2': <tf.Tensor 'ExpandDims_45:0' shape=(None, 1) dtype=float64>, 'avg_int2_5': <tf.Tensor 'ExpandDims_5:0' shape=(None, 1) dtype=float64>, 'var_int2_5': <tf.Tensor 'ExpandDims_47:0' shape=(None, 1) dtype=float64>, 'avg_int2_10': <tf.Tensor 'ExpandDims_4:0' shape=(None, 1) dtype=float64>, 'var_int2_10': <tf.Tensor 'ExpandDims_46:0' shape=(None, 1) dtype=float64>, 'avg_int3': <tf.Tensor 'ExpandDims_6:0' shape=(None, 1) dtype=float64>, 'var_int3': <tf.Tensor 'ExpandDims_48:0' shape=(None, 1) dtype=float64>, 'avg_int3_5': <tf.Tensor 'ExpandDims_8:0' shape=(None, 1) dtype=float64>, 'var_int3_5': <tf.Tensor 'ExpandDims_50:0' shape=(None, 1) dtype=float64>, 'avg_int3_10': <tf.Tensor 'ExpandDims_7:0' shape=(None, 1) dtype=float64>, 'var_int3_10': <tf.Tensor 'ExpandDims_49:0' shape=(None, 1) dtype=float64>, 'avg_int4': <tf.Tensor 'ExpandDims_9:0' shape=(None, 1) dtype=float64>, 'var_int4': <tf.Tensor 'ExpandDims_51:0' shape=(None, 1) dtype=float64>, 'avg_int4_5': <tf.Tensor 'ExpandDims_11:0' shape=(None, 1) dtype=float64>, 'var_int4_5': <tf.Tensor 'ExpandDims_53:0' shape=(None, 1) dtype=float64>, 'avg_int4_10': <tf.Tensor 'ExpandDims_10:0' shape=(None, 1) dtype=float64>, 'var_int4_10': <tf.Tensor 'ExpandDims_52:0' shape=(None, 1) dtype=float64>, 'avg_int5': <tf.Tensor 'ExpandDims_12:0' shape=(None, 1) dtype=float64>, 'var_int5': <tf.Tensor 'ExpandDims_54:0' shape=(None, 1) dtype=float64>, 'avg_int5_5': <tf.Tensor 'ExpandDims_14:0' shape=(None, 1) dtype=float64>, 'var_int5_5': <tf.Tensor 'ExpandDims_56:0' shape=(None, 1) dtype=float64>, 'avg_int5_10': <tf.Tensor 'ExpandDims_13:0' shape=(None, 1) dtype=float64>, 'var_int5_10': <tf.Tensor 'ExpandDims_55:0' shape=(None, 1) dtype=float64>, 'avg_int6': <tf.Tensor 'ExpandDims_15:0' shape=(None, 1) dtype=float64>, 'var_int6': <tf.Tensor 'ExpandDims_57:0' shape=(None, 1) dtype=float64>, 'avg_int6_5': <tf.Tensor 'ExpandDims_17:0' shape=(None, 1) dtype=float64>, 'var_int6_5': <tf.Tensor 'ExpandDims_59:0' shape=(None, 1) dtype=float64>, 'avg_int6_10': <tf.Tensor 'ExpandDims_16:0' shape=(None, 1) dtype=float64>, 'var_int6_10': <tf.Tensor 'ExpandDims_58:0' shape=(None, 1) dtype=float64>, 'avg_int7': <tf.Tensor 'ExpandDims_18:0' shape=(None, 1) dtype=float64>, 'var_int7': <tf.Tensor 'ExpandDims_60:0' shape=(None, 1) dtype=float64>, 'avg_int7_5': <tf.Tensor 'ExpandDims_20:0' shape=(None, 1) dtype=float64>, 'var_int7_5': <tf.Tensor 'ExpandDims_62:0' shape=(None, 1) dtype=float64>, 'avg_int7_10': <tf.Tensor 'ExpandDims_19:0' shape=(None, 1) dtype=float64>, 'var_int7_10': <tf.Tensor 'ExpandDims_61:0' shape=(None, 1) dtype=float64>, 'avg_int8': <tf.Tensor 'ExpandDims_21:0' shape=(None, 1) dtype=float64>, 'var_int8': <tf.Tensor 'ExpandDims_63:0' shape=(None, 1) dtype=float64>, 'avg_int8_5': <tf.Tensor 'ExpandDims_23:0' shape=(None, 1) dtype=float64>, 'var_int8_5': <tf.Tensor 'ExpandDims_65:0' shape=(None, 1) dtype=float64>, 'avg_int8_10': <tf.Tensor 'ExpandDims_22:0' shape=(None, 1) dtype=float64>, 'var_int8_10': <tf.Tensor 'ExpandDims_64:0' shape=(None, 1) dtype=float64>}\n",
            "Consider rewriting this model with the Functional API.\n",
            "WARNING:tensorflow:Layers in a Sequential model should only have a single input tensor, but we receive a <class 'dict'> input: {'click_timestamp': <tf.Tensor 'ExpandDims_33:0' shape=(None, 1) dtype=float64>, 'integer_feature_1': <tf.Tensor 'ExpandDims_34:0' shape=(None, 1) dtype=float64>, 'integer_feature_2': <tf.Tensor 'ExpandDims_35:0' shape=(None, 1) dtype=float64>, 'integer_feature_3': <tf.Tensor 'ExpandDims_36:0' shape=(None, 1) dtype=float64>, 'integer_feature_4': <tf.Tensor 'ExpandDims_37:0' shape=(None, 1) dtype=float64>, 'integer_feature_5': <tf.Tensor 'ExpandDims_38:0' shape=(None, 1) dtype=float64>, 'integer_feature_6': <tf.Tensor 'ExpandDims_39:0' shape=(None, 1) dtype=float64>, 'integer_feature_7': <tf.Tensor 'ExpandDims_40:0' shape=(None, 1) dtype=float64>, 'integer_feature_8': <tf.Tensor 'ExpandDims_41:0' shape=(None, 1) dtype=float64>, 'categorical_feature_1': <tf.Tensor 'ExpandDims_24:0' shape=(None, 1) dtype=string>, 'categorical_feature_2': <tf.Tensor 'ExpandDims_25:0' shape=(None, 1) dtype=string>, 'categorical_feature_3': <tf.Tensor 'ExpandDims_26:0' shape=(None, 1) dtype=string>, 'categorical_feature_4': <tf.Tensor 'ExpandDims_27:0' shape=(None, 1) dtype=string>, 'categorical_feature_5': <tf.Tensor 'ExpandDims_28:0' shape=(None, 1) dtype=string>, 'categorical_feature_6': <tf.Tensor 'ExpandDims_29:0' shape=(None, 1) dtype=string>, 'categorical_feature_7': <tf.Tensor 'ExpandDims_30:0' shape=(None, 1) dtype=string>, 'categorical_feature_8': <tf.Tensor 'ExpandDims_31:0' shape=(None, 1) dtype=string>, 'categorical_feature_9': <tf.Tensor 'ExpandDims_32:0' shape=(None, 1) dtype=string>, 'avg_int1': <tf.Tensor 'ExpandDims:0' shape=(None, 1) dtype=float64>, 'var_int1': <tf.Tensor 'ExpandDims_42:0' shape=(None, 1) dtype=float64>, 'avg_int1_5': <tf.Tensor 'ExpandDims_2:0' shape=(None, 1) dtype=float64>, 'var_int1_5': <tf.Tensor 'ExpandDims_44:0' shape=(None, 1) dtype=float64>, 'avg_int1_10': <tf.Tensor 'ExpandDims_1:0' shape=(None, 1) dtype=float64>, 'var_int1_10': <tf.Tensor 'ExpandDims_43:0' shape=(None, 1) dtype=float64>, 'avg_int2': <tf.Tensor 'ExpandDims_3:0' shape=(None, 1) dtype=float64>, 'var_int2': <tf.Tensor 'ExpandDims_45:0' shape=(None, 1) dtype=float64>, 'avg_int2_5': <tf.Tensor 'ExpandDims_5:0' shape=(None, 1) dtype=float64>, 'var_int2_5': <tf.Tensor 'ExpandDims_47:0' shape=(None, 1) dtype=float64>, 'avg_int2_10': <tf.Tensor 'ExpandDims_4:0' shape=(None, 1) dtype=float64>, 'var_int2_10': <tf.Tensor 'ExpandDims_46:0' shape=(None, 1) dtype=float64>, 'avg_int3': <tf.Tensor 'ExpandDims_6:0' shape=(None, 1) dtype=float64>, 'var_int3': <tf.Tensor 'ExpandDims_48:0' shape=(None, 1) dtype=float64>, 'avg_int3_5': <tf.Tensor 'ExpandDims_8:0' shape=(None, 1) dtype=float64>, 'var_int3_5': <tf.Tensor 'ExpandDims_50:0' shape=(None, 1) dtype=float64>, 'avg_int3_10': <tf.Tensor 'ExpandDims_7:0' shape=(None, 1) dtype=float64>, 'var_int3_10': <tf.Tensor 'ExpandDims_49:0' shape=(None, 1) dtype=float64>, 'avg_int4': <tf.Tensor 'ExpandDims_9:0' shape=(None, 1) dtype=float64>, 'var_int4': <tf.Tensor 'ExpandDims_51:0' shape=(None, 1) dtype=float64>, 'avg_int4_5': <tf.Tensor 'ExpandDims_11:0' shape=(None, 1) dtype=float64>, 'var_int4_5': <tf.Tensor 'ExpandDims_53:0' shape=(None, 1) dtype=float64>, 'avg_int4_10': <tf.Tensor 'ExpandDims_10:0' shape=(None, 1) dtype=float64>, 'var_int4_10': <tf.Tensor 'ExpandDims_52:0' shape=(None, 1) dtype=float64>, 'avg_int5': <tf.Tensor 'ExpandDims_12:0' shape=(None, 1) dtype=float64>, 'var_int5': <tf.Tensor 'ExpandDims_54:0' shape=(None, 1) dtype=float64>, 'avg_int5_5': <tf.Tensor 'ExpandDims_14:0' shape=(None, 1) dtype=float64>, 'var_int5_5': <tf.Tensor 'ExpandDims_56:0' shape=(None, 1) dtype=float64>, 'avg_int5_10': <tf.Tensor 'ExpandDims_13:0' shape=(None, 1) dtype=float64>, 'var_int5_10': <tf.Tensor 'ExpandDims_55:0' shape=(None, 1) dtype=float64>, 'avg_int6': <tf.Tensor 'ExpandDims_15:0' shape=(None, 1) dtype=float64>, 'var_int6': <tf.Tensor 'ExpandDims_57:0' shape=(None, 1) dtype=float64>, 'avg_int6_5': <tf.Tensor 'ExpandDims_17:0' shape=(None, 1) dtype=float64>, 'var_int6_5': <tf.Tensor 'ExpandDims_59:0' shape=(None, 1) dtype=float64>, 'avg_int6_10': <tf.Tensor 'ExpandDims_16:0' shape=(None, 1) dtype=float64>, 'var_int6_10': <tf.Tensor 'ExpandDims_58:0' shape=(None, 1) dtype=float64>, 'avg_int7': <tf.Tensor 'ExpandDims_18:0' shape=(None, 1) dtype=float64>, 'var_int7': <tf.Tensor 'ExpandDims_60:0' shape=(None, 1) dtype=float64>, 'avg_int7_5': <tf.Tensor 'ExpandDims_20:0' shape=(None, 1) dtype=float64>, 'var_int7_5': <tf.Tensor 'ExpandDims_62:0' shape=(None, 1) dtype=float64>, 'avg_int7_10': <tf.Tensor 'ExpandDims_19:0' shape=(None, 1) dtype=float64>, 'var_int7_10': <tf.Tensor 'ExpandDims_61:0' shape=(None, 1) dtype=float64>, 'avg_int8': <tf.Tensor 'ExpandDims_21:0' shape=(None, 1) dtype=float64>, 'var_int8': <tf.Tensor 'ExpandDims_63:0' shape=(None, 1) dtype=float64>, 'avg_int8_5': <tf.Tensor 'ExpandDims_23:0' shape=(None, 1) dtype=float64>, 'var_int8_5': <tf.Tensor 'ExpandDims_65:0' shape=(None, 1) dtype=float64>, 'avg_int8_10': <tf.Tensor 'ExpandDims_22:0' shape=(None, 1) dtype=float64>, 'var_int8_10': <tf.Tensor 'ExpandDims_64:0' shape=(None, 1) dtype=float64>}\n",
            "Consider rewriting this model with the Functional API.\n",
            "2536/2537 [============================>.] - ETA: 0s - loss: 1.1232 - accuracy: 0.7885WARNING:tensorflow:Layers in a Sequential model should only have a single input tensor, but we receive a <class 'dict'> input: {'click_timestamp': <tf.Tensor 'ExpandDims_33:0' shape=(None, 1) dtype=float64>, 'integer_feature_1': <tf.Tensor 'ExpandDims_34:0' shape=(None, 1) dtype=float64>, 'integer_feature_2': <tf.Tensor 'ExpandDims_35:0' shape=(None, 1) dtype=float64>, 'integer_feature_3': <tf.Tensor 'ExpandDims_36:0' shape=(None, 1) dtype=float64>, 'integer_feature_4': <tf.Tensor 'ExpandDims_37:0' shape=(None, 1) dtype=float64>, 'integer_feature_5': <tf.Tensor 'ExpandDims_38:0' shape=(None, 1) dtype=float64>, 'integer_feature_6': <tf.Tensor 'ExpandDims_39:0' shape=(None, 1) dtype=float64>, 'integer_feature_7': <tf.Tensor 'ExpandDims_40:0' shape=(None, 1) dtype=float64>, 'integer_feature_8': <tf.Tensor 'ExpandDims_41:0' shape=(None, 1) dtype=float64>, 'categorical_feature_1': <tf.Tensor 'ExpandDims_24:0' shape=(None, 1) dtype=string>, 'categorical_feature_2': <tf.Tensor 'ExpandDims_25:0' shape=(None, 1) dtype=string>, 'categorical_feature_3': <tf.Tensor 'ExpandDims_26:0' shape=(None, 1) dtype=string>, 'categorical_feature_4': <tf.Tensor 'ExpandDims_27:0' shape=(None, 1) dtype=string>, 'categorical_feature_5': <tf.Tensor 'ExpandDims_28:0' shape=(None, 1) dtype=string>, 'categorical_feature_6': <tf.Tensor 'ExpandDims_29:0' shape=(None, 1) dtype=string>, 'categorical_feature_7': <tf.Tensor 'ExpandDims_30:0' shape=(None, 1) dtype=string>, 'categorical_feature_8': <tf.Tensor 'ExpandDims_31:0' shape=(None, 1) dtype=string>, 'categorical_feature_9': <tf.Tensor 'ExpandDims_32:0' shape=(None, 1) dtype=string>, 'avg_int1': <tf.Tensor 'ExpandDims:0' shape=(None, 1) dtype=float64>, 'var_int1': <tf.Tensor 'ExpandDims_42:0' shape=(None, 1) dtype=float64>, 'avg_int1_5': <tf.Tensor 'ExpandDims_2:0' shape=(None, 1) dtype=float64>, 'var_int1_5': <tf.Tensor 'ExpandDims_44:0' shape=(None, 1) dtype=float64>, 'avg_int1_10': <tf.Tensor 'ExpandDims_1:0' shape=(None, 1) dtype=float64>, 'var_int1_10': <tf.Tensor 'ExpandDims_43:0' shape=(None, 1) dtype=float64>, 'avg_int2': <tf.Tensor 'ExpandDims_3:0' shape=(None, 1) dtype=float64>, 'var_int2': <tf.Tensor 'ExpandDims_45:0' shape=(None, 1) dtype=float64>, 'avg_int2_5': <tf.Tensor 'ExpandDims_5:0' shape=(None, 1) dtype=float64>, 'var_int2_5': <tf.Tensor 'ExpandDims_47:0' shape=(None, 1) dtype=float64>, 'avg_int2_10': <tf.Tensor 'ExpandDims_4:0' shape=(None, 1) dtype=float64>, 'var_int2_10': <tf.Tensor 'ExpandDims_46:0' shape=(None, 1) dtype=float64>, 'avg_int3': <tf.Tensor 'ExpandDims_6:0' shape=(None, 1) dtype=float64>, 'var_int3': <tf.Tensor 'ExpandDims_48:0' shape=(None, 1) dtype=float64>, 'avg_int3_5': <tf.Tensor 'ExpandDims_8:0' shape=(None, 1) dtype=float64>, 'var_int3_5': <tf.Tensor 'ExpandDims_50:0' shape=(None, 1) dtype=float64>, 'avg_int3_10': <tf.Tensor 'ExpandDims_7:0' shape=(None, 1) dtype=float64>, 'var_int3_10': <tf.Tensor 'ExpandDims_49:0' shape=(None, 1) dtype=float64>, 'avg_int4': <tf.Tensor 'ExpandDims_9:0' shape=(None, 1) dtype=float64>, 'var_int4': <tf.Tensor 'ExpandDims_51:0' shape=(None, 1) dtype=float64>, 'avg_int4_5': <tf.Tensor 'ExpandDims_11:0' shape=(None, 1) dtype=float64>, 'var_int4_5': <tf.Tensor 'ExpandDims_53:0' shape=(None, 1) dtype=float64>, 'avg_int4_10': <tf.Tensor 'ExpandDims_10:0' shape=(None, 1) dtype=float64>, 'var_int4_10': <tf.Tensor 'ExpandDims_52:0' shape=(None, 1) dtype=float64>, 'avg_int5': <tf.Tensor 'ExpandDims_12:0' shape=(None, 1) dtype=float64>, 'var_int5': <tf.Tensor 'ExpandDims_54:0' shape=(None, 1) dtype=float64>, 'avg_int5_5': <tf.Tensor 'ExpandDims_14:0' shape=(None, 1) dtype=float64>, 'var_int5_5': <tf.Tensor 'ExpandDims_56:0' shape=(None, 1) dtype=float64>, 'avg_int5_10': <tf.Tensor 'ExpandDims_13:0' shape=(None, 1) dtype=float64>, 'var_int5_10': <tf.Tensor 'ExpandDims_55:0' shape=(None, 1) dtype=float64>, 'avg_int6': <tf.Tensor 'ExpandDims_15:0' shape=(None, 1) dtype=float64>, 'var_int6': <tf.Tensor 'ExpandDims_57:0' shape=(None, 1) dtype=float64>, 'avg_int6_5': <tf.Tensor 'ExpandDims_17:0' shape=(None, 1) dtype=float64>, 'var_int6_5': <tf.Tensor 'ExpandDims_59:0' shape=(None, 1) dtype=float64>, 'avg_int6_10': <tf.Tensor 'ExpandDims_16:0' shape=(None, 1) dtype=float64>, 'var_int6_10': <tf.Tensor 'ExpandDims_58:0' shape=(None, 1) dtype=float64>, 'avg_int7': <tf.Tensor 'ExpandDims_18:0' shape=(None, 1) dtype=float64>, 'var_int7': <tf.Tensor 'ExpandDims_60:0' shape=(None, 1) dtype=float64>, 'avg_int7_5': <tf.Tensor 'ExpandDims_20:0' shape=(None, 1) dtype=float64>, 'var_int7_5': <tf.Tensor 'ExpandDims_62:0' shape=(None, 1) dtype=float64>, 'avg_int7_10': <tf.Tensor 'ExpandDims_19:0' shape=(None, 1) dtype=float64>, 'var_int7_10': <tf.Tensor 'ExpandDims_61:0' shape=(None, 1) dtype=float64>, 'avg_int8': <tf.Tensor 'ExpandDims_21:0' shape=(None, 1) dtype=float64>, 'var_int8': <tf.Tensor 'ExpandDims_63:0' shape=(None, 1) dtype=float64>, 'avg_int8_5': <tf.Tensor 'ExpandDims_23:0' shape=(None, 1) dtype=float64>, 'var_int8_5': <tf.Tensor 'ExpandDims_65:0' shape=(None, 1) dtype=float64>, 'avg_int8_10': <tf.Tensor 'ExpandDims_22:0' shape=(None, 1) dtype=float64>, 'var_int8_10': <tf.Tensor 'ExpandDims_64:0' shape=(None, 1) dtype=float64>}\n",
            "Consider rewriting this model with the Functional API.\n",
            "2537/2537 [==============================] - 145s 56ms/step - loss: 1.1228 - accuracy: 0.7885 - val_loss: 0.4114 - val_accuracy: 0.8267\n",
            "Epoch 2/10\n",
            "2537/2537 [==============================] - 138s 54ms/step - loss: 0.4309 - accuracy: 0.8142 - val_loss: 0.4004 - val_accuracy: 0.8330\n",
            "Epoch 3/10\n",
            "2537/2537 [==============================] - 130s 51ms/step - loss: 0.4252 - accuracy: 0.8170 - val_loss: 0.4061 - val_accuracy: 0.8273\n",
            "Epoch 4/10\n",
            "2537/2537 [==============================] - 127s 50ms/step - loss: 0.4236 - accuracy: 0.8173 - val_loss: 0.4059 - val_accuracy: 0.8283\n",
            "Epoch 5/10\n",
            "2537/2537 [==============================] - 127s 50ms/step - loss: 0.4214 - accuracy: 0.8186 - val_loss: 0.4018 - val_accuracy: 0.8315\n",
            "Epoch 6/10\n",
            "2537/2537 [==============================] - 125s 49ms/step - loss: 0.4203 - accuracy: 0.8196 - val_loss: 0.4010 - val_accuracy: 0.8336\n",
            "Epoch 7/10\n",
            "2537/2537 [==============================] - 125s 49ms/step - loss: 0.4192 - accuracy: 0.8201 - val_loss: 0.4035 - val_accuracy: 0.8336\n",
            "Epoch 8/10\n",
            "2537/2537 [==============================] - 126s 50ms/step - loss: 0.4182 - accuracy: 0.8208 - val_loss: 0.4042 - val_accuracy: 0.8351\n",
            "Epoch 9/10\n",
            "2537/2537 [==============================] - 127s 50ms/step - loss: 0.4174 - accuracy: 0.8216 - val_loss: 0.4069 - val_accuracy: 0.8348\n",
            "Epoch 10/10\n",
            "2537/2537 [==============================] - 125s 49ms/step - loss: 0.4165 - accuracy: 0.8218 - val_loss: 0.4069 - val_accuracy: 0.8359\n"
          ],
          "name": "stdout"
        }
      ]
    },
    {
      "cell_type": "code",
      "metadata": {
        "id": "fe-OyhMsWoKO",
        "colab": {
          "base_uri": "https://localhost:8080/",
          "height": 264
        },
        "outputId": "e1ca24a0-d8b8-49f6-ce92-805d5f8c6614"
      },
      "source": [
        "from matplotlib import pyplot as plt\n",
        "plt.plot(history.history['loss'][0:], label='Loss')\n",
        "plt.plot(history.history['val_loss'][0:], label='Val_loss')\n",
        "plt.legend()\n",
        "plt.show()"
      ],
      "execution_count": 50,
      "outputs": [
        {
          "output_type": "display_data",
          "data": {
            "image/png": "[encoded data removed]",
            "text/plain": [
              "<Figure size 432x288 with 1 Axes>"
            ]
          },
          "metadata": {
            "tags": [],
            "needs_background": "light"
          }
        }
      ]
    },
    {
      "cell_type": "code",
      "metadata": {
        "colab": {
          "base_uri": "https://localhost:8080/"
        },
        "id": "hjN8TiTkWIid",
        "outputId": "ec74fd19-719b-451a-f3b3-7d6477cbec29"
      },
      "source": [
        "loss, accuracy = model.evaluate(vali_ds)\n",
        "print(\"정확도\", accuracy)"
      ],
      "execution_count": 51,
      "outputs": [
        {
          "output_type": "stream",
          "text": [
            "494/494 [==============================] - 18s 35ms/step - loss: 0.4069 - accuracy: 0.8359\n",
            "정확도 0.8358511924743652\n"
          ],
          "name": "stdout"
        }
      ]
    },
    {
      "cell_type": "markdown",
      "metadata": {
        "id": "a-edgN4YBV_s"
      },
      "source": [
        "* Test dataset prediction을 위한 최종 모델은 train과 validation datasets을 결합하여 모델을 다시 훈련하였으며, 과정은 위와 동일함."
      ]
    },
    {
      "cell_type": "code",
      "metadata": {
        "id": "-B35MUbIkX-I"
      },
      "source": [
        "y_pred = model.predict(x_vali)"
      ],
      "execution_count": null,
      "outputs": []
    }
  ]
}