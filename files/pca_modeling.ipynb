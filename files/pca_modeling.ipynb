{
 "cells": [
  {
   "cell_type": "code",
   "execution_count": 1,
   "metadata": {
    "id": "qKxt-Q0HOKp4"
   },
   "outputs": [
    {
     "name": "stderr",
     "output_type": "stream",
     "text": [
      "Using TensorFlow backend.\n"
     ]
    }
   ],
   "source": [
    "import numpy as np\n",
    "from sklearn.metrics import accuracy_score\n",
    "import tensorflow as tf\n",
    "from matplotlib import pyplot as plt\n",
    "import pandas as pd\n",
    "from sklearn.preprocessing import StandardScaler\n",
    "import keras"
   ]
  },
  {
   "cell_type": "code",
   "execution_count": 27,
   "metadata": {
    "id": "A_JkjG6_h9MD"
   },
   "outputs": [],
   "source": [
    "imputed_train = pd.read_csv(\"csvfiles/train_processed_pca50.csv\").iloc[:,1:]"
   ]
  },
  {
   "cell_type": "code",
   "execution_count": 28,
   "metadata": {},
   "outputs": [],
   "source": [
    "imputed_vali = pd.read_csv(\"csvfiles/vali_processed_pca50.csv\").iloc[:,1:]"
   ]
  },
  {
   "cell_type": "code",
   "execution_count": 29,
   "metadata": {
    "id": "495quiFH-fvC"
   },
   "outputs": [],
   "source": [
    "numeric_cols = ['click_timestamp', 'integer_feature_1', 'integer_feature_2',\n",
    "       'integer_feature_3', 'integer_feature_4', 'integer_feature_5',\n",
    "       'integer_feature_6', 'integer_feature_7', 'integer_feature_8']"
   ]
  },
  {
   "cell_type": "code",
   "execution_count": 30,
   "metadata": {
    "id": "NZaRBXGDijQP"
   },
   "outputs": [],
   "source": [
    "scaler = StandardScaler() \n",
    "numeric_train = scaler.fit_transform( imputed_train[numeric_cols] ) \n",
    "numeric_vali = scaler.transform( imputed_vali[numeric_cols] ) "
   ]
  },
  {
   "cell_type": "code",
   "execution_count": 31,
   "metadata": {},
   "outputs": [],
   "source": [
    "imputed_train[numeric_cols] = numeric_train\n",
    "imputed_vali[numeric_cols] = numeric_vali"
   ]
  },
  {
   "cell_type": "code",
   "execution_count": 32,
   "metadata": {},
   "outputs": [],
   "source": [
    "concat_df = pd.concat([imputed_train, imputed_vali],axis=0)"
   ]
  },
  {
   "cell_type": "code",
   "execution_count": 33,
   "metadata": {
    "id": "Y9Wt0ckLn6Ya"
   },
   "outputs": [],
   "source": [
    "window=2"
   ]
  },
  {
   "cell_type": "code",
   "execution_count": 34,
   "metadata": {
    "id": "TiSpHJSElK9v"
   },
   "outputs": [],
   "source": [
    "# x_train\n",
    "def past_features_create(df, window=100):\n",
    "    for i in range(1,9):\n",
    "        df['avg_int'+str(i)] = df['integer_feature_'+str(i)].rolling(window=window).mean() \n",
    "        df['var_int'+str(i)] = df['integer_feature_'+str(i)].rolling(window=window).std() \n",
    "        df['avg_int'+str(i)+'_5'] = df['integer_feature_'+str(i)].rolling(window=window*5).mean() \n",
    "        df['var_int'+str(i)+'_5'] = df['integer_feature_'+str(i)].rolling(window=window*5).std() \n",
    "        df['avg_int'+str(i)+'_10'] = df['integer_feature_'+str(i)].rolling(window=window*10).mean() \n",
    "        df['var_int'+str(i)+'_10'] = df['integer_feature_'+str(i)].rolling(window=window*10).std() \n",
    "    return df"
   ]
  },
  {
   "cell_type": "code",
   "execution_count": 35,
   "metadata": {
    "id": "R6GIQM40nkTd"
   },
   "outputs": [],
   "source": [
    "concat_df_timefeatures = past_features_create(concat_df,  window=window).iloc[10*window-1:,:]"
   ]
  },
  {
   "cell_type": "code",
   "execution_count": 36,
   "metadata": {
    "id": "lW6jsWnOi8kc"
   },
   "outputs": [],
   "source": [
    "train = concat_df_timefeatures.iloc[:-len(imputed_vali),:]\n",
    "vali = concat_df_timefeatures.iloc[-len(imputed_vali):,:]"
   ]
  },
  {
   "cell_type": "code",
   "execution_count": 37,
   "metadata": {
    "id": "hDVZdFkeixuj",
    "scrolled": true
   },
   "outputs": [],
   "source": [
    "y_train = train.pop('label')\n",
    "x_train = train"
   ]
  },
  {
   "cell_type": "code",
   "execution_count": 38,
   "metadata": {
    "colab": {
     "base_uri": "https://localhost:8080/",
     "height": 426
    },
    "id": "brFRm8bj55ms",
    "outputId": "91e04979-7dfd-4d1d-8e4b-bf40d20203a7"
   },
   "outputs": [],
   "source": [
    "y_vali = vali.pop('label')\n",
    "x_vali = vali"
   ]
  },
  {
   "cell_type": "code",
   "execution_count": 39,
   "metadata": {
    "colab": {
     "base_uri": "https://localhost:8080/"
    },
    "id": "TdKN8WZfoDjL",
    "outputId": "4291c321-b461-4f0d-bcd8-167503e6ecb0"
   },
   "outputs": [
    {
     "name": "stdout",
     "output_type": "stream",
     "text": [
      "(499981, 462) (499981,)\n"
     ]
    }
   ],
   "source": [
    "print(x_train.shape, y_train.shape)"
   ]
  },
  {
   "cell_type": "code",
   "execution_count": 42,
   "metadata": {
    "id": "b35CP-vRiO1k"
   },
   "outputs": [],
   "source": [
    "x_train = np.array(x_train)\n",
    "y_train = np.array(y_train)\n",
    "x_vali = np.array(x_vali)\n",
    "y_vali = np.array(y_vali)"
   ]
  },
  {
   "cell_type": "code",
   "execution_count": 50,
   "metadata": {},
   "outputs": [
    {
     "data": {
      "text/plain": [
       "493802"
      ]
     },
     "execution_count": 50,
     "metadata": {},
     "output_type": "execute_result"
    }
   ],
   "source": [
    "len(y_vali)"
   ]
  },
  {
   "cell_type": "code",
   "execution_count": 49,
   "metadata": {},
   "outputs": [
    {
     "data": {
      "text/plain": [
       "493802"
      ]
     },
     "execution_count": 49,
     "metadata": {},
     "output_type": "execute_result"
    }
   ],
   "source": [
    "np.sum(y_vali==0) + np.sum(y_vali==1)"
   ]
  },
  {
   "cell_type": "code",
   "execution_count": 52,
   "metadata": {
    "colab": {
     "base_uri": "https://localhost:8080/"
    },
    "id": "5wHoyhlde2UK",
    "outputId": "5a2cde3b-1282-4d9f-ceae-3d99890ee9c0"
   },
   "outputs": [
    {
     "name": "stdout",
     "output_type": "stream",
     "text": [
      "Train on 499981 samples, validate on 493802 samples\n",
      "Epoch 1/30\n",
      "499981/499981 [==============================] - 7s 14us/sample - loss: 0.4713 - accuracy: 0.8025 - val_loss: 0.4413 - val_accuracy: 0.8091\n",
      "Epoch 2/30\n",
      "499981/499981 [==============================] - 5s 10us/sample - loss: 0.4450 - accuracy: 0.8137 - val_loss: 0.4326 - val_accuracy: 0.8140\n",
      "Epoch 3/30\n",
      "499981/499981 [==============================] - 6s 12us/sample - loss: 0.4380 - accuracy: 0.8164 - val_loss: 0.4276 - val_accuracy: 0.8171\n",
      "Epoch 4/30\n",
      "499981/499981 [==============================] - 6s 11us/sample - loss: 0.4337 - accuracy: 0.8186 - val_loss: 0.4267 - val_accuracy: 0.8178\n",
      "Epoch 5/30\n",
      "499981/499981 [==============================] - 5s 11us/sample - loss: 0.4309 - accuracy: 0.8198 - val_loss: 0.4244 - val_accuracy: 0.8203\n",
      "Epoch 6/30\n",
      "499981/499981 [==============================] - 7s 14us/sample - loss: 0.4296 - accuracy: 0.8208 - val_loss: 0.4237 - val_accuracy: 0.8215\n",
      "Epoch 7/30\n",
      "499981/499981 [==============================] - 6s 11us/sample - loss: 0.4289 - accuracy: 0.8212 - val_loss: 0.4233 - val_accuracy: 0.8202\n",
      "Epoch 8/30\n",
      "499981/499981 [==============================] - 5s 10us/sample - loss: 0.4279 - accuracy: 0.8216 - val_loss: 0.4215 - val_accuracy: 0.8219\n",
      "Epoch 9/30\n",
      "499981/499981 [==============================] - 5s 11us/sample - loss: 0.4279 - accuracy: 0.8216 - val_loss: 0.4226 - val_accuracy: 0.8223\n",
      "Epoch 10/30\n",
      "499981/499981 [==============================] - 5s 11us/sample - loss: 0.4270 - accuracy: 0.8222 - val_loss: 0.4216 - val_accuracy: 0.8220\n",
      "Epoch 11/30\n",
      "499981/499981 [==============================] - 5s 10us/sample - loss: 0.4267 - accuracy: 0.8222 - val_loss: 0.4207 - val_accuracy: 0.8223\n",
      "Epoch 12/30\n",
      "499981/499981 [==============================] - 5s 10us/sample - loss: 0.4268 - accuracy: 0.8225 - val_loss: 0.4192 - val_accuracy: 0.8235\n",
      "Epoch 13/30\n",
      "499981/499981 [==============================] - 5s 10us/sample - loss: 0.4263 - accuracy: 0.8219 - val_loss: 0.4197 - val_accuracy: 0.8225\n",
      "Epoch 14/30\n",
      "499981/499981 [==============================] - 5s 11us/sample - loss: 0.4260 - accuracy: 0.8225 - val_loss: 0.4207 - val_accuracy: 0.8224\n",
      "Epoch 15/30\n",
      "499981/499981 [==============================] - 6s 11us/sample - loss: 0.4261 - accuracy: 0.8223 - val_loss: 0.4187 - val_accuracy: 0.8228\n",
      "Epoch 16/30\n",
      "499981/499981 [==============================] - 5s 11us/sample - loss: 0.4263 - accuracy: 0.8226 - val_loss: 0.4195 - val_accuracy: 0.8234\n",
      "Epoch 17/30\n",
      "499981/499981 [==============================] - 5s 11us/sample - loss: 0.4261 - accuracy: 0.8225 - val_loss: 0.4195 - val_accuracy: 0.8224\n",
      "Epoch 18/30\n",
      "499981/499981 [==============================] - 5s 11us/sample - loss: 0.4260 - accuracy: 0.8225 - val_loss: 0.4177 - val_accuracy: 0.8240\n",
      "Epoch 19/30\n",
      "499981/499981 [==============================] - 5s 11us/sample - loss: 0.4258 - accuracy: 0.8226 - val_loss: 0.4192 - val_accuracy: 0.8237\n",
      "Epoch 20/30\n",
      "499981/499981 [==============================] - 5s 10us/sample - loss: 0.4258 - accuracy: 0.8228 - val_loss: 0.4208 - val_accuracy: 0.8215\n",
      "Epoch 21/30\n",
      "499981/499981 [==============================] - 5s 11us/sample - loss: 0.4257 - accuracy: 0.8222 - val_loss: 0.4195 - val_accuracy: 0.8228\n",
      "Epoch 22/30\n",
      "499981/499981 [==============================] - 5s 11us/sample - loss: 0.4258 - accuracy: 0.8228 - val_loss: 0.4194 - val_accuracy: 0.8221\n",
      "Epoch 23/30\n",
      "499981/499981 [==============================] - 6s 11us/sample - loss: 0.4257 - accuracy: 0.8227 - val_loss: 0.4182 - val_accuracy: 0.8236\n",
      "Epoch 24/30\n",
      "499981/499981 [==============================] - 5s 11us/sample - loss: 0.4260 - accuracy: 0.8224 - val_loss: 0.4194 - val_accuracy: 0.8227\n",
      "Epoch 25/30\n",
      "499981/499981 [==============================] - 5s 11us/sample - loss: 0.4256 - accuracy: 0.8230 - val_loss: 0.4183 - val_accuracy: 0.8235\n",
      "Epoch 26/30\n",
      "499981/499981 [==============================] - 5s 11us/sample - loss: 0.4251 - accuracy: 0.8232 - val_loss: 0.4185 - val_accuracy: 0.8239\n",
      "Epoch 27/30\n",
      "499981/499981 [==============================] - 6s 11us/sample - loss: 0.4256 - accuracy: 0.8227 - val_loss: 0.4183 - val_accuracy: 0.8234\n",
      "Epoch 28/30\n",
      "499981/499981 [==============================] - 5s 11us/sample - loss: 0.4255 - accuracy: 0.8230 - val_loss: 0.4188 - val_accuracy: 0.8230\n",
      "Epoch 29/30\n",
      "499981/499981 [==============================] - 6s 11us/sample - loss: 0.4251 - accuracy: 0.8232 - val_loss: 0.4192 - val_accuracy: 0.8238\n",
      "Epoch 30/30\n",
      "499981/499981 [==============================] - 5s 11us/sample - loss: 0.4253 - accuracy: 0.8233 - val_loss: 0.4185 - val_accuracy: 0.8240\n"
     ]
    }
   ],
   "source": [
    "nnmodel = tf.keras.models.Sequential([\n",
    "  tf.keras.layers.Dense(128, activation='relu', kernel_regularizer=keras.regularizers.l2(0.0001)),  \n",
    "  tf.keras.layers.Dropout(0.5),\n",
    "  tf.keras.layers.Dense(32, activation='relu', kernel_regularizer=keras.regularizers.l2(0.0001)),  \n",
    "  tf.keras.layers.Dropout(0.5),  \n",
    "  tf.keras.layers.Dense(2, activation='softmax')\n",
    "])\n",
    "\n",
    "# adam_opt = tf.keras.optimizers.Adam(\n",
    "#     learning_rate=0.005, beta_1=0.9, beta_2=0.999, epsilon=1e-07, amsgrad=False,\n",
    "#     name='Adam', **kwargs\n",
    "# )\n",
    "\n",
    "nnmodel.compile(optimizer='adam',\n",
    "              loss='sparse_categorical_crossentropy',\n",
    "              metrics=['accuracy'])\n",
    "# fit network\n",
    "history = nnmodel.fit(x_train, y_train, epochs=30, batch_size=1000,\n",
    "                  validation_data=(x_vali, y_vali),\n",
    "                  verbose=1, \n",
    "                  shuffle=True)"
   ]
  },
  {
   "cell_type": "code",
   "execution_count": 56,
   "metadata": {
    "id": "L1GM2clSu8PB"
   },
   "outputs": [],
   "source": [
    "y_pred = nnmodel.predict(x_vali)"
   ]
  },
  {
   "cell_type": "code",
   "execution_count": 57,
   "metadata": {
    "colab": {
     "base_uri": "https://localhost:8080/"
    },
    "id": "FXmzYrY4iWI1",
    "outputId": "9e130e0c-f9b4-4ae3-ca34-e6a729d71e9d"
   },
   "outputs": [
    {
     "name": "stdout",
     "output_type": "stream",
     "text": [
      "0.8239982827125042\n"
     ]
    }
   ],
   "source": [
    "acc_nn = accuracy_score(y_vali, np.argmax(y_pred, axis=1))\n",
    "print(acc_nn)"
   ]
  },
  {
   "cell_type": "code",
   "execution_count": 54,
   "metadata": {
    "colab": {
     "base_uri": "https://localhost:8080/",
     "height": 264
    },
    "id": "QTGDqzWficlh",
    "outputId": "681302ee-fb18-472a-8c7a-e84514dfaabf"
   },
   "outputs": [
    {
     "data": {
      "image/png": "[encoded data removed]",
      "text/plain": [
       "<Figure size 432x288 with 1 Axes>"
      ]
     },
     "metadata": {
      "needs_background": "light"
     },
     "output_type": "display_data"
    }
   ],
   "source": [
    "plt.plot(history.history['loss'][0:], label='Loss')\n",
    "plt.plot(history.history['val_loss'][0:], label='Val_loss')\n",
    "plt.legend()\n",
    "plt.show()"
   ]
  },
  {
   "cell_type": "code",
   "execution_count": 70,
   "metadata": {},
   "outputs": [
    {
     "data": {
      "text/plain": [
       "Index(['click_timestamp', 'integer_feature_1', 'integer_feature_2',\n",
       "       'integer_feature_3', 'integer_feature_4', 'integer_feature_5',\n",
       "       'integer_feature_6', 'integer_feature_7', 'integer_feature_8',\n",
       "       'categorical_feature_1_1',\n",
       "       ...\n",
       "       'avg_int7_5', 'var_int7_5', 'avg_int7_10', 'var_int7_10', 'avg_int8',\n",
       "       'var_int8', 'avg_int8_5', 'var_int8_5', 'avg_int8_10', 'var_int8_10'],\n",
       "      dtype='object', length=462)"
      ]
     },
     "execution_count": 70,
     "metadata": {},
     "output_type": "execute_result"
    }
   ],
   "source": []
  },
  {
   "cell_type": "code",
   "execution_count": 71,
   "metadata": {
    "id": "VfCdDlmY-HYc"
   },
   "outputs": [],
   "source": [
    "X_train = x_train\n",
    "colnames = train.columns"
   ]
  },
  {
   "cell_type": "code",
   "execution_count": 72,
   "metadata": {
    "id": "F58LW-AWr3be"
   },
   "outputs": [],
   "source": [
    "def data_gen():\n",
    "    while True:\n",
    "        x = np.random.rand(1000, 1, X_train.shape[1])  # batch x time x features\n",
    "        yield x, x[:, :, 0] * x[:, :, 1] < 0.25\n",
    "\n",
    "def var_importance(model, X_train=X_train):\n",
    "    result = []\n",
    "    g = data_gen()\n",
    "    x = np.concatenate([next(g)[0] for _ in range(50)]) # Get a sample of data\n",
    "    orig_out = model.predict(x)\n",
    "    for i in range(len(colnames)):  # iterate over the three features\n",
    "        new_x = x.copy()\n",
    "        perturbation = np.random.normal(0.0, 0.2, size=new_x.shape[:2])\n",
    "        new_x[:, :, i] = new_x[:, :, i] + perturbation\n",
    "        perturbed_out = model.predict(new_x)\n",
    "        effect = ((orig_out - perturbed_out) ** 2).mean() ** 0.5\n",
    "        result.append(effect)\n",
    "        print(f' {colnames[i]}, perturbation effect: {effect:.4f}')\n",
    "    return result"
   ]
  },
  {
   "cell_type": "code",
   "execution_count": null,
   "metadata": {
    "colab": {
     "base_uri": "https://localhost:8080/"
    },
    "id": "-_F5dXxl-JGg",
    "outputId": "27221aca-3e32-438c-f588-8c78039b4f08"
   },
   "outputs": [
    {
     "name": "stdout",
     "output_type": "stream",
     "text": [
      " click_timestamp, perturbation effect: 0.0013\n",
      " integer_feature_1, perturbation effect: 0.0237\n",
      " integer_feature_2, perturbation effect: 0.0183\n",
      " integer_feature_3, perturbation effect: 0.0111\n",
      " integer_feature_4, perturbation effect: 0.0184\n",
      " integer_feature_5, perturbation effect: 0.0095\n",
      " integer_feature_6, perturbation effect: 0.0135\n",
      " integer_feature_7, perturbation effect: 0.0129\n",
      " integer_feature_8, perturbation effect: 0.0066\n",
      " categorical_feature_1_1, perturbation effect: 0.0008\n",
      " categorical_feature_1_2, perturbation effect: 0.0006\n",
      " categorical_feature_1_3, perturbation effect: 0.0003\n",
      " categorical_feature_1_4, perturbation effect: 0.0014\n",
      " categorical_feature_1_5, perturbation effect: 0.0005\n",
      " categorical_feature_1_6, perturbation effect: 0.0005\n",
      " categorical_feature_1_7, perturbation effect: 0.0002\n",
      " categorical_feature_1_8, perturbation effect: 0.0031\n",
      " categorical_feature_1_9, perturbation effect: 0.0017\n",
      " categorical_feature_1_10, perturbation effect: 0.0005\n",
      " categorical_feature_1_11, perturbation effect: 0.0002\n",
      " categorical_feature_1_12, perturbation effect: 0.0035\n",
      " categorical_feature_1_13, perturbation effect: 0.0013\n",
      " categorical_feature_1_14, perturbation effect: 0.0013\n",
      " categorical_feature_1_15, perturbation effect: 0.0007\n",
      " categorical_feature_1_16, perturbation effect: 0.0013\n",
      " categorical_feature_1_17, perturbation effect: 0.0000\n",
      " categorical_feature_1_18, perturbation effect: 0.0006\n",
      " categorical_feature_1_19, perturbation effect: 0.0000\n",
      " categorical_feature_1_20, perturbation effect: 0.0004\n",
      " categorical_feature_1_21, perturbation effect: 0.0014\n",
      " categorical_feature_1_22, perturbation effect: 0.0010\n",
      " categorical_feature_1_23, perturbation effect: 0.0005\n",
      " categorical_feature_1_24, perturbation effect: 0.0003\n",
      " categorical_feature_1_25, perturbation effect: 0.0005\n",
      " categorical_feature_1_26, perturbation effect: 0.0021\n",
      " categorical_feature_1_27, perturbation effect: 0.0013\n",
      " categorical_feature_1_28, perturbation effect: 0.0005\n",
      " categorical_feature_1_29, perturbation effect: 0.0007\n",
      " categorical_feature_1_30, perturbation effect: 0.0010\n",
      " categorical_feature_1_31, perturbation effect: 0.0004\n",
      " categorical_feature_1_32, perturbation effect: 0.0005\n",
      " categorical_feature_1_33, perturbation effect: 0.0018\n",
      " categorical_feature_1_34, perturbation effect: 0.0005\n",
      " categorical_feature_1_35, perturbation effect: 0.0010\n",
      " categorical_feature_1_36, perturbation effect: 0.0015\n",
      " categorical_feature_1_37, perturbation effect: 0.0010\n",
      " categorical_feature_1_38, perturbation effect: 0.0007\n",
      " categorical_feature_1_39, perturbation effect: 0.0007\n",
      " categorical_feature_1_40, perturbation effect: 0.0011\n",
      " categorical_feature_1_41, perturbation effect: 0.0004\n",
      " categorical_feature_1_42, perturbation effect: 0.0003\n",
      " categorical_feature_1_43, perturbation effect: 0.0005\n",
      " categorical_feature_1_44, perturbation effect: 0.0004\n",
      " categorical_feature_1_45, perturbation effect: 0.0006\n",
      " categorical_feature_1_46, perturbation effect: 0.0009\n",
      " categorical_feature_1_47, perturbation effect: 0.0023\n",
      " categorical_feature_1_48, perturbation effect: 0.0000\n",
      " categorical_feature_1_49, perturbation effect: 0.0005\n",
      " categorical_feature_1_50, perturbation effect: 0.0024\n",
      " categorical_feature_2_1, perturbation effect: 0.0006\n",
      " categorical_feature_2_2, perturbation effect: 0.0003\n",
      " categorical_feature_2_3, perturbation effect: 0.0002\n",
      " categorical_feature_2_4, perturbation effect: 0.0005\n",
      " categorical_feature_2_5, perturbation effect: 0.0003\n",
      " categorical_feature_2_6, perturbation effect: 0.0004\n",
      " categorical_feature_2_7, perturbation effect: 0.0005\n",
      " categorical_feature_2_8, perturbation effect: 0.0005\n",
      " categorical_feature_2_9, perturbation effect: 0.0003\n",
      " categorical_feature_2_10, perturbation effect: 0.0011\n",
      " categorical_feature_2_11, perturbation effect: 0.0003\n",
      " categorical_feature_2_12, perturbation effect: 0.0015\n",
      " categorical_feature_2_13, perturbation effect: 0.0002\n",
      " categorical_feature_2_14, perturbation effect: 0.0003\n",
      " categorical_feature_2_15, perturbation effect: 0.0002\n",
      " categorical_feature_2_16, perturbation effect: 0.0008\n",
      " categorical_feature_2_17, perturbation effect: 0.0006\n",
      " categorical_feature_2_18, perturbation effect: 0.0003\n",
      " categorical_feature_2_19, perturbation effect: 0.0006\n",
      " categorical_feature_2_20, perturbation effect: 0.0010\n",
      " categorical_feature_2_21, perturbation effect: 0.0006\n",
      " categorical_feature_2_22, perturbation effect: 0.0007\n",
      " categorical_feature_2_23, perturbation effect: 0.0006\n",
      " categorical_feature_2_24, perturbation effect: 0.0006\n",
      " categorical_feature_2_25, perturbation effect: 0.0008\n",
      " categorical_feature_2_26, perturbation effect: 0.0007\n",
      " categorical_feature_2_27, perturbation effect: 0.0007\n",
      " categorical_feature_2_28, perturbation effect: 0.0003\n",
      " categorical_feature_2_29, perturbation effect: 0.0006\n",
      " categorical_feature_2_30, perturbation effect: 0.0003\n",
      " categorical_feature_2_31, perturbation effect: 0.0007\n",
      " categorical_feature_2_32, perturbation effect: 0.0004\n",
      " categorical_feature_2_33, perturbation effect: 0.0003\n",
      " categorical_feature_2_34, perturbation effect: 0.0006\n",
      " categorical_feature_2_35, perturbation effect: 0.0002\n",
      " categorical_feature_2_36, perturbation effect: 0.0005\n",
      " categorical_feature_2_37, perturbation effect: 0.0010\n",
      " categorical_feature_2_38, perturbation effect: 0.0004\n",
      " categorical_feature_2_39, perturbation effect: 0.0009\n",
      " categorical_feature_2_40, perturbation effect: 0.0007\n",
      " categorical_feature_2_41, perturbation effect: 0.0005\n",
      " categorical_feature_2_42, perturbation effect: 0.0007\n",
      " categorical_feature_2_43, perturbation effect: 0.0003\n",
      " categorical_feature_2_44, perturbation effect: 0.0003\n",
      " categorical_feature_2_45, perturbation effect: 0.0009\n",
      " categorical_feature_2_46, perturbation effect: 0.0005\n",
      " categorical_feature_2_47, perturbation effect: 0.0002\n",
      " categorical_feature_2_48, perturbation effect: 0.0009\n",
      " categorical_feature_2_49, perturbation effect: 0.0011\n",
      " categorical_feature_2_50, perturbation effect: 0.0010\n",
      " categorical_feature_3_1, perturbation effect: 0.0004\n",
      " categorical_feature_3_2, perturbation effect: 0.0021\n",
      " categorical_feature_3_3, perturbation effect: 0.0013\n",
      " categorical_feature_3_4, perturbation effect: 0.0026\n",
      " categorical_feature_3_5, perturbation effect: 0.0005\n",
      " categorical_feature_3_6, perturbation effect: 0.0020\n",
      " categorical_feature_3_7, perturbation effect: 0.0007\n",
      " categorical_feature_3_8, perturbation effect: 0.0010\n",
      " categorical_feature_3_9, perturbation effect: 0.0002\n",
      " categorical_feature_3_10, perturbation effect: 0.0020\n",
      " categorical_feature_3_11, perturbation effect: 0.0004\n",
      " categorical_feature_3_12, perturbation effect: 0.0013\n",
      " categorical_feature_3_13, perturbation effect: 0.0017\n",
      " categorical_feature_3_14, perturbation effect: 0.0004\n",
      " categorical_feature_3_15, perturbation effect: 0.0005\n",
      " categorical_feature_3_16, perturbation effect: 0.0009\n",
      " categorical_feature_3_17, perturbation effect: 0.0013\n",
      " categorical_feature_3_18, perturbation effect: 0.0010\n",
      " categorical_feature_3_19, perturbation effect: 0.0007\n",
      " categorical_feature_3_20, perturbation effect: 0.0007\n",
      " categorical_feature_3_21, perturbation effect: 0.0009\n",
      " categorical_feature_3_22, perturbation effect: 0.0043\n",
      " categorical_feature_3_23, perturbation effect: 0.0004\n",
      " categorical_feature_3_24, perturbation effect: 0.0005\n",
      " categorical_feature_3_25, perturbation effect: 0.0005\n",
      " categorical_feature_3_26, perturbation effect: 0.0003\n",
      " categorical_feature_3_27, perturbation effect: 0.0004\n",
      " categorical_feature_3_28, perturbation effect: 0.0005\n",
      " categorical_feature_3_29, perturbation effect: 0.0003\n",
      " categorical_feature_3_30, perturbation effect: 0.0007\n",
      " categorical_feature_3_31, perturbation effect: 0.0016\n",
      " categorical_feature_3_32, perturbation effect: 0.0006\n",
      " categorical_feature_3_33, perturbation effect: 0.0008\n",
      " categorical_feature_3_34, perturbation effect: 0.0005\n",
      " categorical_feature_3_35, perturbation effect: 0.0014\n",
      " categorical_feature_3_36, perturbation effect: 0.0004\n",
      " categorical_feature_3_37, perturbation effect: 0.0009\n",
      " categorical_feature_3_38, perturbation effect: 0.0013\n",
      " categorical_feature_3_39, perturbation effect: 0.0002\n",
      " categorical_feature_3_40, perturbation effect: 0.0023\n",
      " categorical_feature_3_41, perturbation effect: 0.0038\n",
      " categorical_feature_3_42, perturbation effect: 0.0038\n"
     ]
    },
    {
     "name": "stdout",
     "output_type": "stream",
     "text": [
      " categorical_feature_3_43, perturbation effect: 0.0006\n",
      " categorical_feature_3_44, perturbation effect: 0.0000\n",
      " categorical_feature_3_45, perturbation effect: 0.0005\n",
      " categorical_feature_3_46, perturbation effect: 0.0006\n",
      " categorical_feature_3_47, perturbation effect: 0.0024\n",
      " categorical_feature_3_48, perturbation effect: 0.0005\n",
      " categorical_feature_3_49, perturbation effect: 0.0006\n",
      " categorical_feature_3_50, perturbation effect: 0.0010\n",
      " categorical_feature_4_1, perturbation effect: 0.0003\n",
      " categorical_feature_4_2, perturbation effect: 0.0004\n",
      " categorical_feature_4_3, perturbation effect: 0.0004\n",
      " categorical_feature_4_4, perturbation effect: 0.0010\n",
      " categorical_feature_4_5, perturbation effect: 0.0026\n",
      " categorical_feature_4_6, perturbation effect: 0.0004\n",
      " categorical_feature_4_7, perturbation effect: 0.0004\n",
      " categorical_feature_4_8, perturbation effect: 0.0005\n",
      " categorical_feature_4_9, perturbation effect: 0.0001\n",
      " categorical_feature_4_10, perturbation effect: 0.0008\n",
      " categorical_feature_4_11, perturbation effect: 0.0014\n",
      " categorical_feature_4_12, perturbation effect: 0.0002\n",
      " categorical_feature_4_13, perturbation effect: 0.0007\n",
      " categorical_feature_4_14, perturbation effect: 0.0005\n",
      " categorical_feature_4_15, perturbation effect: 0.0006\n",
      " categorical_feature_4_16, perturbation effect: 0.0024\n",
      " categorical_feature_4_17, perturbation effect: 0.0007\n",
      " categorical_feature_4_18, perturbation effect: 0.0003\n",
      " categorical_feature_4_19, perturbation effect: 0.0006\n",
      " categorical_feature_4_20, perturbation effect: 0.0006\n",
      " categorical_feature_4_21, perturbation effect: 0.0004\n",
      " categorical_feature_4_22, perturbation effect: 0.0008\n",
      " categorical_feature_4_23, perturbation effect: 0.0007\n",
      " categorical_feature_4_24, perturbation effect: 0.0002\n",
      " categorical_feature_4_25, perturbation effect: 0.0004\n",
      " categorical_feature_4_26, perturbation effect: 0.0008\n",
      " categorical_feature_4_27, perturbation effect: 0.0014\n",
      " categorical_feature_4_28, perturbation effect: 0.0019\n",
      " categorical_feature_4_29, perturbation effect: 0.0012\n",
      " categorical_feature_4_30, perturbation effect: 0.0004\n",
      " categorical_feature_4_31, perturbation effect: 0.0005\n",
      " categorical_feature_4_32, perturbation effect: 0.0013\n",
      " categorical_feature_4_33, perturbation effect: 0.0006\n",
      " categorical_feature_4_34, perturbation effect: 0.0005\n",
      " categorical_feature_4_35, perturbation effect: 0.0005\n",
      " categorical_feature_4_36, perturbation effect: 0.0003\n",
      " categorical_feature_4_37, perturbation effect: 0.0007\n",
      " categorical_feature_4_38, perturbation effect: 0.0007\n",
      " categorical_feature_4_39, perturbation effect: 0.0010\n",
      " categorical_feature_4_40, perturbation effect: 0.0003\n",
      " categorical_feature_4_41, perturbation effect: 0.0005\n",
      " categorical_feature_4_42, perturbation effect: 0.0009\n",
      " categorical_feature_4_43, perturbation effect: 0.0005\n",
      " categorical_feature_4_44, perturbation effect: 0.0009\n",
      " categorical_feature_4_45, perturbation effect: 0.0049\n",
      " categorical_feature_4_46, perturbation effect: 0.0014\n",
      " categorical_feature_4_47, perturbation effect: 0.0004\n",
      " categorical_feature_4_48, perturbation effect: 0.0015\n",
      " categorical_feature_4_49, perturbation effect: 0.0012\n",
      " categorical_feature_4_50, perturbation effect: 0.0010\n",
      " categorical_feature_5_1, perturbation effect: 0.0004\n",
      " categorical_feature_5_2, perturbation effect: 0.0007\n",
      " categorical_feature_5_3, perturbation effect: 0.0002\n",
      " categorical_feature_5_4, perturbation effect: 0.0006\n",
      " categorical_feature_5_5, perturbation effect: 0.0026\n",
      " categorical_feature_5_6, perturbation effect: 0.0009\n",
      " categorical_feature_5_7, perturbation effect: 0.0007\n",
      " categorical_feature_5_8, perturbation effect: 0.0028\n",
      " categorical_feature_5_9, perturbation effect: 0.0021\n",
      " categorical_feature_5_10, perturbation effect: 0.0011\n",
      " categorical_feature_5_11, perturbation effect: 0.0020\n",
      " categorical_feature_5_12, perturbation effect: 0.0007\n",
      " categorical_feature_5_13, perturbation effect: 0.0008\n",
      " categorical_feature_5_14, perturbation effect: 0.0007\n",
      " categorical_feature_5_15, perturbation effect: 0.0037\n",
      " categorical_feature_5_16, perturbation effect: 0.0010\n",
      " categorical_feature_5_17, perturbation effect: 0.0021\n",
      " categorical_feature_5_18, perturbation effect: 0.0025\n",
      " categorical_feature_5_19, perturbation effect: 0.0023\n",
      " categorical_feature_5_20, perturbation effect: 0.0016\n",
      " categorical_feature_5_21, perturbation effect: 0.0012\n",
      " categorical_feature_5_22, perturbation effect: 0.0007\n",
      " categorical_feature_5_23, perturbation effect: 0.0006\n",
      " categorical_feature_5_24, perturbation effect: 0.0004\n",
      " categorical_feature_5_25, perturbation effect: 0.0015\n",
      " categorical_feature_5_26, perturbation effect: 0.0007\n",
      " categorical_feature_5_27, perturbation effect: 0.0022\n",
      " categorical_feature_5_28, perturbation effect: 0.0021\n",
      " categorical_feature_5_29, perturbation effect: 0.0005\n",
      " categorical_feature_5_30, perturbation effect: 0.0008\n",
      " categorical_feature_5_31, perturbation effect: 0.0007\n",
      " categorical_feature_5_32, perturbation effect: 0.0004\n",
      " categorical_feature_5_33, perturbation effect: 0.0007\n",
      " categorical_feature_5_34, perturbation effect: 0.0015\n",
      " categorical_feature_5_35, perturbation effect: 0.0021\n",
      " categorical_feature_5_36, perturbation effect: 0.0008\n",
      " categorical_feature_5_37, perturbation effect: 0.0010\n",
      " categorical_feature_5_38, perturbation effect: 0.0037\n",
      " categorical_feature_5_39, perturbation effect: 0.0005\n",
      " categorical_feature_5_40, perturbation effect: 0.0007\n",
      " categorical_feature_5_41, perturbation effect: 0.0005\n",
      " categorical_feature_5_42, perturbation effect: 0.0010\n",
      " categorical_feature_5_43, perturbation effect: 0.0026\n",
      " categorical_feature_5_44, perturbation effect: 0.0055\n",
      " categorical_feature_5_45, perturbation effect: 0.0006\n",
      " categorical_feature_5_46, perturbation effect: 0.0021\n",
      " categorical_feature_5_47, perturbation effect: 0.0023\n",
      " categorical_feature_5_48, perturbation effect: 0.0011\n",
      " categorical_feature_5_49, perturbation effect: 0.0013\n",
      " categorical_feature_5_50, perturbation effect: 0.0013\n",
      " categorical_feature_6_1, perturbation effect: 0.0006\n",
      " categorical_feature_6_2, perturbation effect: 0.0003\n",
      " categorical_feature_6_3, perturbation effect: 0.0015\n",
      " categorical_feature_6_4, perturbation effect: 0.0018\n",
      " categorical_feature_6_5, perturbation effect: 0.0018\n",
      " categorical_feature_6_6, perturbation effect: 0.0005\n",
      " categorical_feature_6_7, perturbation effect: 0.0010\n",
      " categorical_feature_6_8, perturbation effect: 0.0014\n",
      " categorical_feature_6_9, perturbation effect: 0.0004\n",
      " categorical_feature_6_10, perturbation effect: 0.0003\n",
      " categorical_feature_6_11, perturbation effect: 0.0018\n",
      " categorical_feature_6_12, perturbation effect: 0.0008\n",
      " categorical_feature_6_13, perturbation effect: 0.0006\n",
      " categorical_feature_6_14, perturbation effect: 0.0002\n",
      " categorical_feature_6_15, perturbation effect: 0.0004\n",
      " categorical_feature_6_16, perturbation effect: 0.0005\n",
      " categorical_feature_6_17, perturbation effect: 0.0010\n",
      " categorical_feature_6_18, perturbation effect: 0.0013\n",
      " categorical_feature_6_19, perturbation effect: 0.0009\n",
      " categorical_feature_6_20, perturbation effect: 0.0016\n",
      " categorical_feature_6_21, perturbation effect: 0.0007\n",
      " categorical_feature_6_22, perturbation effect: 0.0007\n",
      " categorical_feature_6_23, perturbation effect: 0.0004\n",
      " categorical_feature_6_24, perturbation effect: 0.0015\n",
      " categorical_feature_6_25, perturbation effect: 0.0006\n",
      " categorical_feature_6_26, perturbation effect: 0.0008\n",
      " categorical_feature_6_27, perturbation effect: 0.0007\n",
      " categorical_feature_6_28, perturbation effect: 0.0009\n",
      " categorical_feature_6_29, perturbation effect: 0.0003\n",
      " categorical_feature_6_30, perturbation effect: 0.0004\n",
      " categorical_feature_6_31, perturbation effect: 0.0006\n",
      " categorical_feature_6_32, perturbation effect: 0.0019\n",
      " categorical_feature_6_33, perturbation effect: 0.0013\n",
      " categorical_feature_6_34, perturbation effect: 0.0015\n",
      " categorical_feature_6_35, perturbation effect: 0.0024\n",
      " categorical_feature_6_36, perturbation effect: 0.0030\n",
      " categorical_feature_6_37, perturbation effect: 0.0007\n",
      " categorical_feature_6_38, perturbation effect: 0.0014\n",
      " categorical_feature_6_39, perturbation effect: 0.0008\n",
      " categorical_feature_6_40, perturbation effect: 0.0012\n",
      " categorical_feature_6_41, perturbation effect: 0.0005\n",
      " categorical_feature_6_42, perturbation effect: 0.0009\n"
     ]
    },
    {
     "name": "stdout",
     "output_type": "stream",
     "text": [
      " categorical_feature_6_43, perturbation effect: 0.0005\n",
      " categorical_feature_6_44, perturbation effect: 0.0005\n",
      " categorical_feature_6_45, perturbation effect: 0.0003\n",
      " categorical_feature_6_46, perturbation effect: 0.0015\n",
      " categorical_feature_6_47, perturbation effect: 0.0016\n",
      " categorical_feature_6_48, perturbation effect: 0.0013\n",
      " categorical_feature_6_49, perturbation effect: 0.0006\n",
      " categorical_feature_6_50, perturbation effect: 0.0013\n",
      " categorical_feature_7_1, perturbation effect: 0.0004\n",
      " categorical_feature_7_2, perturbation effect: 0.0004\n",
      " categorical_feature_7_3, perturbation effect: 0.0003\n",
      " categorical_feature_7_4, perturbation effect: 0.0007\n",
      " categorical_feature_7_5, perturbation effect: 0.0008\n",
      " categorical_feature_7_6, perturbation effect: 0.0005\n",
      " categorical_feature_7_7, perturbation effect: 0.0002\n",
      " categorical_feature_7_8, perturbation effect: 0.0002\n",
      " categorical_feature_7_9, perturbation effect: 0.0003\n",
      " categorical_feature_7_10, perturbation effect: 0.0003\n",
      " categorical_feature_7_11, perturbation effect: 0.0003\n",
      " categorical_feature_7_12, perturbation effect: 0.0005\n",
      " categorical_feature_7_13, perturbation effect: 0.0005\n",
      " categorical_feature_7_14, perturbation effect: 0.0003\n",
      " categorical_feature_7_15, perturbation effect: 0.0006\n",
      " categorical_feature_7_16, perturbation effect: 0.0006\n",
      " categorical_feature_7_17, perturbation effect: 0.0002\n",
      " categorical_feature_7_18, perturbation effect: 0.0004\n",
      " categorical_feature_7_19, perturbation effect: 0.0008\n",
      " categorical_feature_7_20, perturbation effect: 0.0007\n",
      " categorical_feature_7_21, perturbation effect: 0.0006\n",
      " categorical_feature_7_22, perturbation effect: 0.0003\n",
      " categorical_feature_7_23, perturbation effect: 0.0002\n",
      " categorical_feature_7_24, perturbation effect: 0.0003\n",
      " categorical_feature_7_25, perturbation effect: 0.0003\n",
      " categorical_feature_7_26, perturbation effect: 0.0003\n",
      " categorical_feature_7_27, perturbation effect: 0.0002\n",
      " categorical_feature_7_28, perturbation effect: 0.0006\n",
      " categorical_feature_7_29, perturbation effect: 0.0004\n",
      " categorical_feature_7_30, perturbation effect: 0.0004\n",
      " categorical_feature_7_31, perturbation effect: 0.0003\n",
      " categorical_feature_7_32, perturbation effect: 0.0003\n",
      " categorical_feature_7_33, perturbation effect: 0.0005\n",
      " categorical_feature_7_34, perturbation effect: 0.0007\n",
      " categorical_feature_7_35, perturbation effect: 0.0007\n",
      " categorical_feature_7_36, perturbation effect: 0.0006\n",
      " categorical_feature_7_37, perturbation effect: 0.0006\n",
      " categorical_feature_7_38, perturbation effect: 0.0004\n",
      " categorical_feature_7_39, perturbation effect: 0.0007\n",
      " categorical_feature_7_40, perturbation effect: 0.0005\n",
      " categorical_feature_7_41, perturbation effect: 0.0010\n",
      " categorical_feature_7_42, perturbation effect: 0.0006\n",
      " categorical_feature_7_43, perturbation effect: 0.0004\n",
      " categorical_feature_7_44, perturbation effect: 0.0010\n",
      " categorical_feature_7_45, perturbation effect: 0.0005\n",
      " categorical_feature_7_46, perturbation effect: 0.0009\n",
      " categorical_feature_7_47, perturbation effect: 0.0007\n",
      " categorical_feature_7_48, perturbation effect: 0.0007\n",
      " categorical_feature_7_49, perturbation effect: 0.0009\n",
      " categorical_feature_7_50, perturbation effect: 0.0005\n",
      " categorical_feature_8_1, perturbation effect: 0.0002\n",
      " categorical_feature_8_2, perturbation effect: 0.0026\n",
      " categorical_feature_8_3, perturbation effect: 0.0046\n",
      " categorical_feature_8_4, perturbation effect: 0.0006\n",
      " categorical_feature_8_5, perturbation effect: 0.0017\n",
      " categorical_feature_9_1, perturbation effect: 0.0003\n"
     ]
    }
   ],
   "source": [
    "pertubation_test = var_importance(nnmodel)"
   ]
  },
  {
   "cell_type": "code",
   "execution_count": null,
   "metadata": {},
   "outputs": [],
   "source": []
  }
 ],
 "metadata": {
  "accelerator": "GPU",
  "colab": {
   "collapsed_sections": [],
   "name": "modeling.ipynb",
   "provenance": []
  },
  "kernelspec": {
   "display_name": "Python 3",
   "language": "python",
   "name": "python3"
  },
  "language_info": {
   "codemirror_mode": {
    "name": "ipython",
    "version": 3
   },
   "file_extension": ".py",
   "mimetype": "text/x-python",
   "name": "python",
   "nbconvert_exporter": "python",
   "pygments_lexer": "ipython3",
   "version": "3.7.6"
  }
 },
 "nbformat": 4,
 "nbformat_minor": 1
}
